{
 "cells": [
  {
   "attachments": {},
   "cell_type": "markdown",
   "metadata": {},
   "source": [
    "Importing libraries\n"
   ]
  },
  {
   "cell_type": "code",
   "execution_count": 143,
   "metadata": {},
   "outputs": [],
   "source": [
    "import numpy as np\n",
    "import pandas as pd\n",
    "from sklearn.model_selection import train_test_split\n",
    "from sklearn import svm\n",
    "import matplotlib.pyplot as plt\n",
    "from sklearn.model_selection import GridSearchCV\n",
    "from IPython.display import HTML"
   ]
  },
  {
   "cell_type": "code",
   "execution_count": 59,
   "metadata": {},
   "outputs": [
    {
     "name": "stdout",
     "output_type": "stream",
     "text": [
      "      MFCCs_ 1  MFCCs_ 2  MFCCs_ 3  MFCCs_ 4  MFCCs_ 5  MFCCs_ 6  MFCCs_ 7  \\\n",
      "0          1.0  0.152936 -0.105586  0.200722  0.317201  0.260764  0.100945   \n",
      "1          1.0  0.171534 -0.098975  0.268425  0.338672  0.268353  0.060835   \n",
      "2          1.0  0.152317 -0.082973  0.287128  0.276014  0.189867  0.008714   \n",
      "3          1.0  0.224392  0.118985  0.329432  0.372088  0.361005  0.015501   \n",
      "4          1.0  0.087817 -0.068345  0.306967  0.330923  0.249144  0.006884   \n",
      "...        ...       ...       ...       ...       ...       ...       ...   \n",
      "7190       1.0 -0.554504 -0.337717  0.035533  0.034511  0.443451  0.093889   \n",
      "7191       1.0 -0.517273 -0.370574  0.030673  0.068097  0.402890  0.096628   \n",
      "7192       1.0 -0.582557 -0.343237  0.029468  0.064179  0.385596  0.114905   \n",
      "7193       1.0 -0.519497 -0.307553 -0.004922  0.072865  0.377131  0.086866   \n",
      "7194       1.0 -0.508833 -0.324106  0.062068  0.078211  0.397188  0.094596   \n",
      "\n",
      "      MFCCs_ 8  MFCCs_ 9  MFCCs_10  ...  MFCCs_17  MFCCs_18  MFCCs_19  \\\n",
      "0    -0.150063 -0.171128  0.124676  ... -0.108351 -0.077623 -0.009568   \n",
      "1    -0.222475 -0.207693  0.170883  ... -0.090974 -0.056510 -0.035303   \n",
      "2    -0.242234 -0.219153  0.232538  ... -0.050691 -0.023590 -0.066722   \n",
      "3    -0.194347 -0.098181  0.270375  ... -0.136009 -0.177037 -0.130498   \n",
      "4    -0.265423 -0.172700  0.266434  ... -0.048885 -0.053074 -0.088550   \n",
      "...        ...       ...       ...  ...       ...       ...       ...   \n",
      "7190 -0.100753  0.037087  0.081075  ...  0.069430  0.071001  0.021591   \n",
      "7191 -0.116460  0.063727  0.089034  ...  0.061127  0.068978  0.017745   \n",
      "7192 -0.103317  0.070370  0.081317  ...  0.082474  0.077771 -0.009688   \n",
      "7193 -0.115799  0.056979  0.089316  ...  0.051796  0.069073  0.017963   \n",
      "7194 -0.117672  0.058874  0.076180  ...  0.061455  0.072983 -0.003980   \n",
      "\n",
      "      MFCCs_20  MFCCs_21  MFCCs_22           Family      Genus  \\\n",
      "0     0.057684  0.118680  0.014038  Leptodactylidae  Adenomera   \n",
      "1     0.020140  0.082263  0.029056  Leptodactylidae  Adenomera   \n",
      "2    -0.025083  0.099108  0.077162  Leptodactylidae  Adenomera   \n",
      "3    -0.054766 -0.018691  0.023954  Leptodactylidae  Adenomera   \n",
      "4    -0.031346  0.108610  0.079244  Leptodactylidae  Adenomera   \n",
      "...        ...       ...       ...              ...        ...   \n",
      "7190  0.052449 -0.021860 -0.079860          Hylidae     Scinax   \n",
      "7191  0.046461 -0.015418 -0.101892          Hylidae     Scinax   \n",
      "7192  0.027834 -0.000531 -0.080425          Hylidae     Scinax   \n",
      "7193  0.041803 -0.027911 -0.096895          Hylidae     Scinax   \n",
      "7194  0.031560 -0.029355 -0.087910          Hylidae     Scinax   \n",
      "\n",
      "             Species  RecordID  \n",
      "0     AdenomeraAndre         1  \n",
      "1     AdenomeraAndre         1  \n",
      "2     AdenomeraAndre         1  \n",
      "3     AdenomeraAndre         1  \n",
      "4     AdenomeraAndre         1  \n",
      "...              ...       ...  \n",
      "7190     ScinaxRuber        60  \n",
      "7191     ScinaxRuber        60  \n",
      "7192     ScinaxRuber        60  \n",
      "7193     ScinaxRuber        60  \n",
      "7194     ScinaxRuber        60  \n",
      "\n",
      "[7195 rows x 26 columns]\n"
     ]
    },
    {
     "data": {
      "text/plain": [
       "MFCCs_ 1    7195\n",
       "MFCCs_ 2    7195\n",
       "MFCCs_ 3    7195\n",
       "MFCCs_ 4    7195\n",
       "MFCCs_ 5    7195\n",
       "MFCCs_ 6    7195\n",
       "MFCCs_ 7    7195\n",
       "MFCCs_ 8    7195\n",
       "MFCCs_ 9    7195\n",
       "MFCCs_10    7195\n",
       "MFCCs_11    7195\n",
       "MFCCs_12    7195\n",
       "MFCCs_13    7195\n",
       "MFCCs_14    7195\n",
       "MFCCs_15    7195\n",
       "MFCCs_16    7195\n",
       "MFCCs_17    7195\n",
       "MFCCs_18    7195\n",
       "MFCCs_19    7195\n",
       "MFCCs_20    7195\n",
       "MFCCs_21    7195\n",
       "MFCCs_22    7195\n",
       "Family      7195\n",
       "Genus       7195\n",
       "Species     7195\n",
       "RecordID    7195\n",
       "dtype: int64"
      ]
     },
     "execution_count": 59,
     "metadata": {},
     "output_type": "execute_result"
    }
   ],
   "source": [
    "df = pd.read_csv('Frogs_MFCCs.csv')\n",
    "print(df)\n",
    "df.count()"
   ]
  },
  {
   "cell_type": "code",
   "execution_count": 60,
   "metadata": {},
   "outputs": [
    {
     "name": "stdout",
     "output_type": "stream",
     "text": [
      "      MFCCs_ 1  MFCCs_ 2  MFCCs_ 3  MFCCs_ 4  MFCCs_ 5  MFCCs_ 6  MFCCs_ 7  \\\n",
      "0          1.0  0.152936 -0.105586  0.200722  0.317201  0.260764  0.100945   \n",
      "1          1.0  0.171534 -0.098975  0.268425  0.338672  0.268353  0.060835   \n",
      "2          1.0  0.152317 -0.082973  0.287128  0.276014  0.189867  0.008714   \n",
      "3          1.0  0.224392  0.118985  0.329432  0.372088  0.361005  0.015501   \n",
      "4          1.0  0.087817 -0.068345  0.306967  0.330923  0.249144  0.006884   \n",
      "...        ...       ...       ...       ...       ...       ...       ...   \n",
      "7190       1.0 -0.554504 -0.337717  0.035533  0.034511  0.443451  0.093889   \n",
      "7191       1.0 -0.517273 -0.370574  0.030673  0.068097  0.402890  0.096628   \n",
      "7192       1.0 -0.582557 -0.343237  0.029468  0.064179  0.385596  0.114905   \n",
      "7193       1.0 -0.519497 -0.307553 -0.004922  0.072865  0.377131  0.086866   \n",
      "7194       1.0 -0.508833 -0.324106  0.062068  0.078211  0.397188  0.094596   \n",
      "\n",
      "      MFCCs_ 8  MFCCs_ 9  MFCCs_10  ...  MFCCs_13  MFCCs_14  MFCCs_15  \\\n",
      "0    -0.150063 -0.171128  0.124676  ... -0.156436  0.082245  0.135752   \n",
      "1    -0.222475 -0.207693  0.170883  ... -0.254341  0.022786  0.163320   \n",
      "2    -0.242234 -0.219153  0.232538  ... -0.237384  0.050791  0.207338   \n",
      "3    -0.194347 -0.098181  0.270375  ... -0.317084 -0.011567  0.100413   \n",
      "4    -0.265423 -0.172700  0.266434  ... -0.298524  0.037439  0.219153   \n",
      "...        ...       ...       ...  ...       ...       ...       ...   \n",
      "7190 -0.100753  0.037087  0.081075  ... -0.145668 -0.059364  0.024206   \n",
      "7191 -0.116460  0.063727  0.089034  ... -0.164675 -0.105600  0.030767   \n",
      "7192 -0.103317  0.070370  0.081317  ... -0.150025 -0.078615  0.024861   \n",
      "7193 -0.115799  0.056979  0.089316  ... -0.153120 -0.075320  0.022903   \n",
      "7194 -0.117672  0.058874  0.076180  ... -0.150554 -0.073415  0.042517   \n",
      "\n",
      "      MFCCs_16  MFCCs_17  MFCCs_18  MFCCs_19  MFCCs_20  MFCCs_21  MFCCs_22  \n",
      "0    -0.024017 -0.108351 -0.077623 -0.009568  0.057684  0.118680  0.014038  \n",
      "1     0.012022 -0.090974 -0.056510 -0.035303  0.020140  0.082263  0.029056  \n",
      "2     0.083536 -0.050691 -0.023590 -0.066722 -0.025083  0.099108  0.077162  \n",
      "3    -0.050224 -0.136009 -0.177037 -0.130498 -0.054766 -0.018691  0.023954  \n",
      "4     0.062837 -0.048885 -0.053074 -0.088550 -0.031346  0.108610  0.079244  \n",
      "...        ...       ...       ...       ...       ...       ...       ...  \n",
      "7190 -0.000861  0.069430  0.071001  0.021591  0.052449 -0.021860 -0.079860  \n",
      "7191  0.006457  0.061127  0.068978  0.017745  0.046461 -0.015418 -0.101892  \n",
      "7192  0.008696  0.082474  0.077771 -0.009688  0.027834 -0.000531 -0.080425  \n",
      "7193  0.001924  0.051796  0.069073  0.017963  0.041803 -0.027911 -0.096895  \n",
      "7194  0.004158  0.061455  0.072983 -0.003980  0.031560 -0.029355 -0.087910  \n",
      "\n",
      "[7195 rows x 22 columns]\n",
      "0       Leptodactylidae\n",
      "1       Leptodactylidae\n",
      "2       Leptodactylidae\n",
      "3       Leptodactylidae\n",
      "4       Leptodactylidae\n",
      "             ...       \n",
      "7190            Hylidae\n",
      "7191            Hylidae\n",
      "7192            Hylidae\n",
      "7193            Hylidae\n",
      "7194            Hylidae\n",
      "Name: Family, Length: 7195, dtype: object\n",
      "['Leptodactylidae' 'Dendrobatidae' 'Hylidae' 'Bufonidae']\n"
     ]
    }
   ],
   "source": [
    "y = df['Family']\n",
    "X = df.drop(labels=['Family','Genus','Species','RecordID'], axis=1)\n",
    "print(X)\n",
    "print(y)\n",
    "print(y.unique())"
   ]
  },
  {
   "cell_type": "code",
   "execution_count": 61,
   "metadata": {},
   "outputs": [],
   "source": [
    "X_train, X_test, y_train, y_test = train_test_split(\n",
    "    X, y, test_size=0.3, random_state=42)"
   ]
  },
  {
   "cell_type": "code",
   "execution_count": 62,
   "metadata": {},
   "outputs": [
    {
     "name": "stdout",
     "output_type": "stream",
     "text": [
      "      MFCCs_ 1  MFCCs_ 2  MFCCs_ 3  MFCCs_ 4  MFCCs_ 5  MFCCs_ 6  MFCCs_ 7  \\\n",
      "2004  1.000000  0.327476  0.282440  0.572211  0.096509 -0.036705 -0.082174   \n",
      "1194  1.000000  0.232818 -0.144331 -0.078909 -0.072467  0.255380  0.450215   \n",
      "5359  0.966443  0.455914  1.000000  0.541650 -0.412873  0.307099  0.235819   \n",
      "1756  1.000000  0.257873  0.112807  0.527614  0.186094  0.043683 -0.163682   \n",
      "497   1.000000  0.401859  0.563219  0.578304 -0.126517 -0.058725  0.431806   \n",
      "...        ...       ...       ...       ...       ...       ...       ...   \n",
      "3772  1.000000  0.406366  0.268684  0.704863  0.358415  0.055376 -0.159812   \n",
      "5191  1.000000  0.634337  0.594395  0.403271  0.004960  0.037880 -0.065399   \n",
      "5226  1.000000  0.756413  0.732319  0.385807 -0.034821  0.073881 -0.058027   \n",
      "5390  0.931410  0.626137  1.000000  0.375834 -0.223044  0.325943  0.121659   \n",
      "860   1.000000  0.332793 -0.056006  0.358653  0.508890  0.185081 -0.205522   \n",
      "\n",
      "      MFCCs_ 8  MFCCs_ 9  MFCCs_10  ...  MFCCs_13  MFCCs_14  MFCCs_15  \\\n",
      "2004  0.146604  0.297338 -0.120902  ...  0.438532 -0.148451 -0.260375   \n",
      "1194  0.261033 -0.168462 -0.281445  ... -0.108483  0.329984  0.274031   \n",
      "5359 -0.064025  0.069728 -0.052552  ... -0.073050 -0.140994  0.162584   \n",
      "1756 -0.014125  0.196527  0.018839  ...  0.404813 -0.075488 -0.320882   \n",
      "497   0.066801 -0.321014  0.155569  ... -0.132244  0.190753  0.126674   \n",
      "...        ...       ...       ...  ...       ...       ...       ...   \n",
      "3772  0.065813  0.345068  0.175460  ...  0.378497 -0.014091 -0.352985   \n",
      "5191  0.125276  0.106976 -0.223357  ... -0.228140 -0.274889  0.244973   \n",
      "5226  0.183775  0.219419 -0.445112  ... -0.177708 -0.311815  0.182382   \n",
      "5390 -0.092542  0.163365 -0.049382  ... -0.047610 -0.188463  0.102240   \n",
      "860  -0.138280  0.204867  0.243058  ... -0.033355  0.255357  0.172043   \n",
      "\n",
      "      MFCCs_16  MFCCs_17  MFCCs_18  MFCCs_19  MFCCs_20  MFCCs_21  MFCCs_22  \n",
      "2004  0.178628  0.218024 -0.042083 -0.126511 -0.090279  0.096176  0.191697  \n",
      "1194 -0.157579 -0.291979 -0.042932 -0.009021 -0.032679  0.023912  0.041407  \n",
      "5359 -0.007981 -0.049428 -0.053166 -0.026728  0.029443  0.019032 -0.105221  \n",
      "1756  0.024806  0.226971  0.034969 -0.106029 -0.147124  0.042627  0.250249  \n",
      "497  -0.148049 -0.002891  0.157072 -0.015251 -0.055428  0.086927  0.086006  \n",
      "...        ...       ...       ...       ...       ...       ...       ...  \n",
      "3772  0.015183  0.220504  0.054246 -0.069108 -0.174583 -0.032202  0.188263  \n",
      "5191  0.096130 -0.140923  0.003646  0.007163  0.068718  0.047640 -0.179215  \n",
      "5226  0.030100 -0.182019  0.006296 -0.005868  0.029439  0.004783 -0.198014  \n",
      "5390  0.150353 -0.054750 -0.054434  0.108092  0.156994 -0.051681 -0.085656  \n",
      "860  -0.125121 -0.183615  0.003870  0.150144  0.040411 -0.103768 -0.066435  \n",
      "\n",
      "[5036 rows x 22 columns]\n",
      "2004    Leptodactylidae\n",
      "1194      Dendrobatidae\n",
      "5359            Hylidae\n",
      "1756    Leptodactylidae\n",
      "497     Leptodactylidae\n",
      "             ...       \n",
      "3772    Leptodactylidae\n",
      "5191            Hylidae\n",
      "5226            Hylidae\n",
      "5390            Hylidae\n",
      "860       Dendrobatidae\n",
      "Name: Family, Length: 5036, dtype: object\n"
     ]
    }
   ],
   "source": [
    "print(X_train)\n",
    "print(y_train)"
   ]
  },
  {
   "cell_type": "code",
   "execution_count": 63,
   "metadata": {},
   "outputs": [
    {
     "data": {
      "text/html": [
       "<style>#sk-container-id-7 {color: black;background-color: white;}#sk-container-id-7 pre{padding: 0;}#sk-container-id-7 div.sk-toggleable {background-color: white;}#sk-container-id-7 label.sk-toggleable__label {cursor: pointer;display: block;width: 100%;margin-bottom: 0;padding: 0.3em;box-sizing: border-box;text-align: center;}#sk-container-id-7 label.sk-toggleable__label-arrow:before {content: \"▸\";float: left;margin-right: 0.25em;color: #696969;}#sk-container-id-7 label.sk-toggleable__label-arrow:hover:before {color: black;}#sk-container-id-7 div.sk-estimator:hover label.sk-toggleable__label-arrow:before {color: black;}#sk-container-id-7 div.sk-toggleable__content {max-height: 0;max-width: 0;overflow: hidden;text-align: left;background-color: #f0f8ff;}#sk-container-id-7 div.sk-toggleable__content pre {margin: 0.2em;color: black;border-radius: 0.25em;background-color: #f0f8ff;}#sk-container-id-7 input.sk-toggleable__control:checked~div.sk-toggleable__content {max-height: 200px;max-width: 100%;overflow: auto;}#sk-container-id-7 input.sk-toggleable__control:checked~label.sk-toggleable__label-arrow:before {content: \"▾\";}#sk-container-id-7 div.sk-estimator input.sk-toggleable__control:checked~label.sk-toggleable__label {background-color: #d4ebff;}#sk-container-id-7 div.sk-label input.sk-toggleable__control:checked~label.sk-toggleable__label {background-color: #d4ebff;}#sk-container-id-7 input.sk-hidden--visually {border: 0;clip: rect(1px 1px 1px 1px);clip: rect(1px, 1px, 1px, 1px);height: 1px;margin: -1px;overflow: hidden;padding: 0;position: absolute;width: 1px;}#sk-container-id-7 div.sk-estimator {font-family: monospace;background-color: #f0f8ff;border: 1px dotted black;border-radius: 0.25em;box-sizing: border-box;margin-bottom: 0.5em;}#sk-container-id-7 div.sk-estimator:hover {background-color: #d4ebff;}#sk-container-id-7 div.sk-parallel-item::after {content: \"\";width: 100%;border-bottom: 1px solid gray;flex-grow: 1;}#sk-container-id-7 div.sk-label:hover label.sk-toggleable__label {background-color: #d4ebff;}#sk-container-id-7 div.sk-serial::before {content: \"\";position: absolute;border-left: 1px solid gray;box-sizing: border-box;top: 0;bottom: 0;left: 50%;z-index: 0;}#sk-container-id-7 div.sk-serial {display: flex;flex-direction: column;align-items: center;background-color: white;padding-right: 0.2em;padding-left: 0.2em;position: relative;}#sk-container-id-7 div.sk-item {position: relative;z-index: 1;}#sk-container-id-7 div.sk-parallel {display: flex;align-items: stretch;justify-content: center;background-color: white;position: relative;}#sk-container-id-7 div.sk-item::before, #sk-container-id-7 div.sk-parallel-item::before {content: \"\";position: absolute;border-left: 1px solid gray;box-sizing: border-box;top: 0;bottom: 0;left: 50%;z-index: -1;}#sk-container-id-7 div.sk-parallel-item {display: flex;flex-direction: column;z-index: 1;position: relative;background-color: white;}#sk-container-id-7 div.sk-parallel-item:first-child::after {align-self: flex-end;width: 50%;}#sk-container-id-7 div.sk-parallel-item:last-child::after {align-self: flex-start;width: 50%;}#sk-container-id-7 div.sk-parallel-item:only-child::after {width: 0;}#sk-container-id-7 div.sk-dashed-wrapped {border: 1px dashed gray;margin: 0 0.4em 0.5em 0.4em;box-sizing: border-box;padding-bottom: 0.4em;background-color: white;}#sk-container-id-7 div.sk-label label {font-family: monospace;font-weight: bold;display: inline-block;line-height: 1.2em;}#sk-container-id-7 div.sk-label-container {text-align: center;}#sk-container-id-7 div.sk-container {/* jupyter's `normalize.less` sets `[hidden] { display: none; }` but bootstrap.min.css set `[hidden] { display: none !important; }` so we also need the `!important` here to be able to override the default hidden behavior on the sphinx rendered scikit-learn.org. See: https://github.com/scikit-learn/scikit-learn/issues/21755 */display: inline-block !important;position: relative;}#sk-container-id-7 div.sk-text-repr-fallback {display: none;}</style><div id=\"sk-container-id-7\" class=\"sk-top-container\"><div class=\"sk-text-repr-fallback\"><pre>LinearSVC()</pre><b>In a Jupyter environment, please rerun this cell to show the HTML representation or trust the notebook. <br />On GitHub, the HTML representation is unable to render, please try loading this page with nbviewer.org.</b></div><div class=\"sk-container\" hidden><div class=\"sk-item\"><div class=\"sk-estimator sk-toggleable\"><input class=\"sk-toggleable__control sk-hidden--visually\" id=\"sk-estimator-id-7\" type=\"checkbox\" checked><label for=\"sk-estimator-id-7\" class=\"sk-toggleable__label sk-toggleable__label-arrow\">LinearSVC</label><div class=\"sk-toggleable__content\"><pre>LinearSVC()</pre></div></div></div></div></div>"
      ],
      "text/plain": [
       "LinearSVC()"
      ]
     },
     "execution_count": 63,
     "metadata": {},
     "output_type": "execute_result"
    }
   ],
   "source": [
    "lin_clf = svm.LinearSVC()\n",
    "lin_clf.fit(X_train, y_train)"
   ]
  },
  {
   "cell_type": "code",
   "execution_count": 64,
   "metadata": {},
   "outputs": [
    {
     "name": "stdout",
     "output_type": "stream",
     "text": [
      "(2159,)\n",
      "['Leptodactylidae' 'Hylidae' 'Hylidae' ... 'Leptodactylidae'\n",
      " 'Leptodactylidae' 'Leptodactylidae']\n"
     ]
    }
   ],
   "source": [
    "y_predicted = lin_clf.predict(X_test)\n",
    "print(y_predicted.shape)\n",
    "print(y_predicted)"
   ]
  },
  {
   "cell_type": "code",
   "execution_count": 65,
   "metadata": {},
   "outputs": [
    {
     "name": "stdout",
     "output_type": "stream",
     "text": [
      "train_data_Ma =  0.9362589356632248\n",
      "test_data_Ma =  0.9277443260768874\n"
     ]
    }
   ],
   "source": [
    "train_data_Ma = lin_clf.score(X_train,y_train)\n",
    "print('train_data_Ma = ',train_data_Ma)\n",
    "test_data_Ma = lin_clf.score(X_test,y_test)\n",
    "print('test_data_Ma = ',test_data_Ma)"
   ]
  },
  {
   "attachments": {},
   "cell_type": "markdown",
   "metadata": {},
   "source": [
    "Note = LinearSVC don't have \"n_support_\" attribute, so if we want that we should use \"Linear\" kernel of SVC instead."
   ]
  },
  {
   "attachments": {},
   "cell_type": "markdown",
   "metadata": {},
   "source": [
    "SVC Linear kernel"
   ]
  },
  {
   "cell_type": "code",
   "execution_count": 66,
   "metadata": {},
   "outputs": [
    {
     "data": {
      "text/html": [
       "<style>#sk-container-id-8 {color: black;background-color: white;}#sk-container-id-8 pre{padding: 0;}#sk-container-id-8 div.sk-toggleable {background-color: white;}#sk-container-id-8 label.sk-toggleable__label {cursor: pointer;display: block;width: 100%;margin-bottom: 0;padding: 0.3em;box-sizing: border-box;text-align: center;}#sk-container-id-8 label.sk-toggleable__label-arrow:before {content: \"▸\";float: left;margin-right: 0.25em;color: #696969;}#sk-container-id-8 label.sk-toggleable__label-arrow:hover:before {color: black;}#sk-container-id-8 div.sk-estimator:hover label.sk-toggleable__label-arrow:before {color: black;}#sk-container-id-8 div.sk-toggleable__content {max-height: 0;max-width: 0;overflow: hidden;text-align: left;background-color: #f0f8ff;}#sk-container-id-8 div.sk-toggleable__content pre {margin: 0.2em;color: black;border-radius: 0.25em;background-color: #f0f8ff;}#sk-container-id-8 input.sk-toggleable__control:checked~div.sk-toggleable__content {max-height: 200px;max-width: 100%;overflow: auto;}#sk-container-id-8 input.sk-toggleable__control:checked~label.sk-toggleable__label-arrow:before {content: \"▾\";}#sk-container-id-8 div.sk-estimator input.sk-toggleable__control:checked~label.sk-toggleable__label {background-color: #d4ebff;}#sk-container-id-8 div.sk-label input.sk-toggleable__control:checked~label.sk-toggleable__label {background-color: #d4ebff;}#sk-container-id-8 input.sk-hidden--visually {border: 0;clip: rect(1px 1px 1px 1px);clip: rect(1px, 1px, 1px, 1px);height: 1px;margin: -1px;overflow: hidden;padding: 0;position: absolute;width: 1px;}#sk-container-id-8 div.sk-estimator {font-family: monospace;background-color: #f0f8ff;border: 1px dotted black;border-radius: 0.25em;box-sizing: border-box;margin-bottom: 0.5em;}#sk-container-id-8 div.sk-estimator:hover {background-color: #d4ebff;}#sk-container-id-8 div.sk-parallel-item::after {content: \"\";width: 100%;border-bottom: 1px solid gray;flex-grow: 1;}#sk-container-id-8 div.sk-label:hover label.sk-toggleable__label {background-color: #d4ebff;}#sk-container-id-8 div.sk-serial::before {content: \"\";position: absolute;border-left: 1px solid gray;box-sizing: border-box;top: 0;bottom: 0;left: 50%;z-index: 0;}#sk-container-id-8 div.sk-serial {display: flex;flex-direction: column;align-items: center;background-color: white;padding-right: 0.2em;padding-left: 0.2em;position: relative;}#sk-container-id-8 div.sk-item {position: relative;z-index: 1;}#sk-container-id-8 div.sk-parallel {display: flex;align-items: stretch;justify-content: center;background-color: white;position: relative;}#sk-container-id-8 div.sk-item::before, #sk-container-id-8 div.sk-parallel-item::before {content: \"\";position: absolute;border-left: 1px solid gray;box-sizing: border-box;top: 0;bottom: 0;left: 50%;z-index: -1;}#sk-container-id-8 div.sk-parallel-item {display: flex;flex-direction: column;z-index: 1;position: relative;background-color: white;}#sk-container-id-8 div.sk-parallel-item:first-child::after {align-self: flex-end;width: 50%;}#sk-container-id-8 div.sk-parallel-item:last-child::after {align-self: flex-start;width: 50%;}#sk-container-id-8 div.sk-parallel-item:only-child::after {width: 0;}#sk-container-id-8 div.sk-dashed-wrapped {border: 1px dashed gray;margin: 0 0.4em 0.5em 0.4em;box-sizing: border-box;padding-bottom: 0.4em;background-color: white;}#sk-container-id-8 div.sk-label label {font-family: monospace;font-weight: bold;display: inline-block;line-height: 1.2em;}#sk-container-id-8 div.sk-label-container {text-align: center;}#sk-container-id-8 div.sk-container {/* jupyter's `normalize.less` sets `[hidden] { display: none; }` but bootstrap.min.css set `[hidden] { display: none !important; }` so we also need the `!important` here to be able to override the default hidden behavior on the sphinx rendered scikit-learn.org. See: https://github.com/scikit-learn/scikit-learn/issues/21755 */display: inline-block !important;position: relative;}#sk-container-id-8 div.sk-text-repr-fallback {display: none;}</style><div id=\"sk-container-id-8\" class=\"sk-top-container\"><div class=\"sk-text-repr-fallback\"><pre>SVC(kernel=&#x27;linear&#x27;)</pre><b>In a Jupyter environment, please rerun this cell to show the HTML representation or trust the notebook. <br />On GitHub, the HTML representation is unable to render, please try loading this page with nbviewer.org.</b></div><div class=\"sk-container\" hidden><div class=\"sk-item\"><div class=\"sk-estimator sk-toggleable\"><input class=\"sk-toggleable__control sk-hidden--visually\" id=\"sk-estimator-id-8\" type=\"checkbox\" checked><label for=\"sk-estimator-id-8\" class=\"sk-toggleable__label sk-toggleable__label-arrow\">SVC</label><div class=\"sk-toggleable__content\"><pre>SVC(kernel=&#x27;linear&#x27;)</pre></div></div></div></div></div>"
      ],
      "text/plain": [
       "SVC(kernel='linear')"
      ]
     },
     "execution_count": 66,
     "metadata": {},
     "output_type": "execute_result"
    }
   ],
   "source": [
    "linear_svc = svm.SVC(kernel='linear')\n",
    "linear_svc.fit(X_train, y_train)"
   ]
  },
  {
   "cell_type": "code",
   "execution_count": 67,
   "metadata": {},
   "outputs": [],
   "source": [
    "y_predicted_lk = linear_svc.predict(X_test)  # \"lk\" is stands for 'Linear kernel'"
   ]
  },
  {
   "cell_type": "code",
   "execution_count": 68,
   "metadata": {},
   "outputs": [
    {
     "name": "stdout",
     "output_type": "stream",
     "text": [
      "train_data_Ma_lk =  0.9453931691818904\n",
      "test_data_Ma_lk =  0.937007874015748\n"
     ]
    }
   ],
   "source": [
    "train_data_Ma_lk = linear_svc.score(X_train,y_train)\n",
    "print('train_data_Ma_lk = ',train_data_Ma_lk)\n",
    "test_data_Ma_lk = linear_svc.score(X_test,y_test)\n",
    "print('test_data_Ma_lk = ',test_data_Ma_lk)"
   ]
  },
  {
   "cell_type": "code",
   "execution_count": 69,
   "metadata": {},
   "outputs": [
    {
     "data": {
      "text/plain": [
       "array([ 41, 179, 440, 396])"
      ]
     },
     "execution_count": 69,
     "metadata": {},
     "output_type": "execute_result"
    }
   ],
   "source": [
    "linear_svc.n_support_"
   ]
  },
  {
   "attachments": {},
   "cell_type": "markdown",
   "metadata": {},
   "source": [
    "non-linear svm with softsvm"
   ]
  },
  {
   "cell_type": "code",
   "execution_count": 70,
   "metadata": {},
   "outputs": [],
   "source": [
    "X_train_val_nls, X_test_nls, y_train_val_nls, y_test_nls = train_test_split(\n",
    "    X, y, test_size=0.2, random_state=42)  # nls is stands \"Not Linear SVM\"\n",
    "\n",
    "X_train_nls, X_val_nls, y_train_nls, y_val_nls = train_test_split(\n",
    "    X_train_val_nls, y_train_val_nls, test_size=0.3, random_state=42)"
   ]
  },
  {
   "cell_type": "code",
   "execution_count": 71,
   "metadata": {},
   "outputs": [
    {
     "name": "stdout",
     "output_type": "stream",
     "text": [
      "      MFCCs_ 1  MFCCs_ 2  MFCCs_ 3  MFCCs_ 4  MFCCs_ 5  MFCCs_ 6  MFCCs_ 7  \\\n",
      "2875  1.000000  0.204721  0.088500  0.473744  0.184679  0.015349 -0.134023   \n",
      "4313  1.000000  0.152838  0.175480  0.557519  0.145594  0.017728 -0.171676   \n",
      "6650  1.000000  0.375320  0.726709  0.233079 -0.152686  0.336269  0.146814   \n",
      "2294  1.000000  0.183517  0.078300  0.440872  0.175630 -0.047668 -0.200249   \n",
      "6507  1.000000  0.525100  0.404266  0.257706  0.040817  0.216045  0.053140   \n",
      "...        ...       ...       ...       ...       ...       ...       ...   \n",
      "1107  1.000000  0.366276  0.179889  0.399835  0.201200  0.220640  0.279348   \n",
      "5869  0.987746  0.666994  1.000000  0.827238  0.343675  0.964240 -0.298913   \n",
      "2838  1.000000  0.448428  0.193492  0.563995  0.259693  0.067070 -0.122421   \n",
      "160   1.000000  0.550181  0.116074 -0.012733  0.123113  0.217830  0.170377   \n",
      "6366  0.307415  0.933799  1.000000  0.580911 -0.221001  0.545421  0.088720   \n",
      "\n",
      "      MFCCs_ 8  MFCCs_ 9  MFCCs_10  ...  MFCCs_13  MFCCs_14  MFCCs_15  \\\n",
      "2875  0.041685  0.279787  0.051039  ...  0.312790 -0.037664 -0.242618   \n",
      "4313 -0.005804  0.203218 -0.051800  ...  0.307101 -0.279669 -0.186986   \n",
      "6650 -0.178007  0.109775  0.108084  ... -0.054539  0.020325  0.076886   \n",
      "2294  0.011770  0.224507  0.031493  ...  0.274567 -0.142648 -0.253475   \n",
      "6507 -0.054888  0.071248  0.098517  ...  0.057171 -0.049328 -0.014675   \n",
      "...        ...       ...       ...  ...       ...       ...       ...   \n",
      "1107  0.078375 -0.107095  0.042102  ... -0.101362  0.159527  0.154405   \n",
      "5869 -0.348482  0.738033  0.446771  ... -0.056346 -0.061355  0.126075   \n",
      "2838  0.073501  0.285377  0.090109  ...  0.326695  0.018250 -0.287829   \n",
      "160   0.141399  0.071525 -0.022268  ... -0.092279  0.121476  0.238904   \n",
      "6366 -0.037972  0.044315  0.046655  ... -0.078294  0.174283  0.033958   \n",
      "\n",
      "      MFCCs_16  MFCCs_17  MFCCs_18  MFCCs_19  MFCCs_20  MFCCs_21  MFCCs_22  \n",
      "2875  0.052136  0.230418  0.072157 -0.052356 -0.100669  0.006781  0.218558  \n",
      "4313  0.257571  0.186449 -0.121864 -0.138423  0.005663  0.172332  0.173505  \n",
      "6650 -0.034324  0.008489  0.023500 -0.040283 -0.019471  0.062585  0.014271  \n",
      "2294  0.064197  0.157997  0.007930 -0.117662 -0.108859  0.131516  0.232180  \n",
      "6507  0.066886  0.037353 -0.003617  0.025813 -0.009884 -0.001971  0.054229  \n",
      "...        ...       ...       ...       ...       ...       ...       ...  \n",
      "1107 -0.177946 -0.211215 -0.015461 -0.015915 -0.079819 -0.042596 -0.050173  \n",
      "5869 -0.195177 -0.384849 -0.058017 -0.043756 -0.007561  0.200982 -0.019479  \n",
      "2838 -0.089620  0.200033  0.132648 -0.016712 -0.181986 -0.052044  0.162005  \n",
      "160   0.142938 -0.026183 -0.172715 -0.136976 -0.044971  0.064799  0.131152  \n",
      "6366 -0.030942 -0.024486 -0.058442  0.132501 -0.013382 -0.020486  0.017638  \n",
      "\n",
      "[4029 rows x 22 columns]\n",
      "2875    Leptodactylidae\n",
      "4313    Leptodactylidae\n",
      "6650    Leptodactylidae\n",
      "2294    Leptodactylidae\n",
      "6507            Hylidae\n",
      "             ...       \n",
      "1107      Dendrobatidae\n",
      "5869            Hylidae\n",
      "2838    Leptodactylidae\n",
      "160     Leptodactylidae\n",
      "6366            Hylidae\n",
      "Name: Family, Length: 4029, dtype: object\n",
      "      MFCCs_ 1  MFCCs_ 2  MFCCs_ 3  MFCCs_ 4  MFCCs_ 5  MFCCs_ 6  MFCCs_ 7  \\\n",
      "39         1.0  0.208230  0.041967  0.390908  0.362461  0.284770  0.079844   \n",
      "5240       1.0  0.617936  0.652519  0.397275 -0.023578  0.059033  0.004568   \n",
      "1708       1.0  0.273419  0.123486  0.480196  0.165520  0.029283 -0.172347   \n",
      "5158       1.0  0.704376  0.729235  0.436087  0.057078  0.095763 -0.042441   \n",
      "6075       1.0  0.030328  0.373601  0.386334  0.192562  0.237021  0.103141   \n",
      "...        ...       ...       ...       ...       ...       ...       ...   \n",
      "1044       1.0  0.231316 -0.183919 -0.128526 -0.094037  0.246626  0.599835   \n",
      "5159       1.0  0.658513  0.615468  0.417724  0.111129  0.163045  0.085011   \n",
      "1862       1.0  0.393378  0.211089  0.564605  0.201271  0.061247 -0.074156   \n",
      "5579       1.0 -0.156275  0.520828  0.449090  0.206653  0.276754  0.030805   \n",
      "2990       1.0  0.304953  0.202005  0.578052  0.211407 -0.030880 -0.179547   \n",
      "\n",
      "      MFCCs_ 8  MFCCs_ 9  MFCCs_10  ...  MFCCs_13  MFCCs_14  MFCCs_15  \\\n",
      "39   -0.178042 -0.153269  0.223139  ... -0.285490 -0.040009  0.100222   \n",
      "5240  0.211149  0.249624 -0.154889  ... -0.065004 -0.255180  0.225399   \n",
      "1708 -0.024958  0.195693  0.040460  ...  0.376677 -0.083643 -0.329126   \n",
      "5158  0.168308  0.195609 -0.233841  ... -0.202372 -0.322968  0.212204   \n",
      "6075 -0.163602 -0.080221  0.074040  ...  0.082215 -0.045928 -0.089320   \n",
      "...        ...       ...       ...  ...       ...       ...       ...   \n",
      "1044  0.263151 -0.288985 -0.305650  ...  0.146941  0.368325  0.206683   \n",
      "5159  0.250686  0.150167 -0.215313  ... -0.129793 -0.226319  0.194956   \n",
      "1862  0.069646  0.237285  0.079792  ...  0.325930 -0.008493 -0.332304   \n",
      "5579 -0.164003 -0.105776  0.063546  ... -0.004101  0.094675 -0.107639   \n",
      "2990  0.072902  0.283372  0.045931  ...  0.330560 -0.006811 -0.226555   \n",
      "\n",
      "      MFCCs_16  MFCCs_17  MFCCs_18  MFCCs_19  MFCCs_20  MFCCs_21  MFCCs_22  \n",
      "39   -0.048050 -0.122650 -0.079648 -0.108214 -0.099974  0.032462  0.016676  \n",
      "5240  0.131641 -0.065250 -0.021761  0.055355  0.109974  0.054407 -0.138825  \n",
      "1708 -0.004441  0.199339  0.073171 -0.080171 -0.170493 -0.017118  0.217453  \n",
      "5158  0.060524 -0.199066 -0.051347 -0.013216  0.088144  0.074726 -0.144770  \n",
      "6075 -0.021576  0.065115  0.024606  0.006405  0.037128 -0.056142 -0.037058  \n",
      "...        ...       ...       ...       ...       ...       ...       ...  \n",
      "1044 -0.160740 -0.124499  0.039138 -0.018737 -0.002191  0.114411  0.079060  \n",
      "5159  0.146209 -0.060231  0.006363  0.007672  0.128517  0.046710 -0.167466  \n",
      "1862 -0.083978  0.224646  0.163347 -0.030130 -0.115958  0.058545  0.236086  \n",
      "5579 -0.028921  0.195189  0.019047 -0.079306  0.009562  0.003445  0.019817  \n",
      "2990  0.034982  0.136339  0.072774 -0.042535 -0.160170 -0.007206  0.193256  \n",
      "\n",
      "[1727 rows x 22 columns]\n",
      "39      Leptodactylidae\n",
      "5240            Hylidae\n",
      "1708    Leptodactylidae\n",
      "5158            Hylidae\n",
      "6075            Hylidae\n",
      "             ...       \n",
      "1044      Dendrobatidae\n",
      "5159            Hylidae\n",
      "1862    Leptodactylidae\n",
      "5579            Hylidae\n",
      "2990    Leptodactylidae\n",
      "Name: Family, Length: 1727, dtype: object\n"
     ]
    }
   ],
   "source": [
    "print(X_train_nls)\n",
    "print(y_train_nls)\n",
    "print(X_val_nls)\n",
    "print(y_val_nls)"
   ]
  },
  {
   "attachments": {},
   "cell_type": "markdown",
   "metadata": {},
   "source": [
    "size of the kernel cache has a strong impact on run times for larger problems.\n",
    "so we choose it 500 instead of 200 default\n",
    "also we chose sigmoid kernel arbitrary only for being non linear and then check \n",
    "soft svm parameter (C) changes on its svm model."
   ]
  },
  {
   "attachments": {},
   "cell_type": "markdown",
   "metadata": {},
   "source": [
    "sigmoid kernel"
   ]
  },
  {
   "cell_type": "code",
   "execution_count": 72,
   "metadata": {},
   "outputs": [
    {
     "data": {
      "text/html": [
       "<style>#sk-container-id-9 {color: black;background-color: white;}#sk-container-id-9 pre{padding: 0;}#sk-container-id-9 div.sk-toggleable {background-color: white;}#sk-container-id-9 label.sk-toggleable__label {cursor: pointer;display: block;width: 100%;margin-bottom: 0;padding: 0.3em;box-sizing: border-box;text-align: center;}#sk-container-id-9 label.sk-toggleable__label-arrow:before {content: \"▸\";float: left;margin-right: 0.25em;color: #696969;}#sk-container-id-9 label.sk-toggleable__label-arrow:hover:before {color: black;}#sk-container-id-9 div.sk-estimator:hover label.sk-toggleable__label-arrow:before {color: black;}#sk-container-id-9 div.sk-toggleable__content {max-height: 0;max-width: 0;overflow: hidden;text-align: left;background-color: #f0f8ff;}#sk-container-id-9 div.sk-toggleable__content pre {margin: 0.2em;color: black;border-radius: 0.25em;background-color: #f0f8ff;}#sk-container-id-9 input.sk-toggleable__control:checked~div.sk-toggleable__content {max-height: 200px;max-width: 100%;overflow: auto;}#sk-container-id-9 input.sk-toggleable__control:checked~label.sk-toggleable__label-arrow:before {content: \"▾\";}#sk-container-id-9 div.sk-estimator input.sk-toggleable__control:checked~label.sk-toggleable__label {background-color: #d4ebff;}#sk-container-id-9 div.sk-label input.sk-toggleable__control:checked~label.sk-toggleable__label {background-color: #d4ebff;}#sk-container-id-9 input.sk-hidden--visually {border: 0;clip: rect(1px 1px 1px 1px);clip: rect(1px, 1px, 1px, 1px);height: 1px;margin: -1px;overflow: hidden;padding: 0;position: absolute;width: 1px;}#sk-container-id-9 div.sk-estimator {font-family: monospace;background-color: #f0f8ff;border: 1px dotted black;border-radius: 0.25em;box-sizing: border-box;margin-bottom: 0.5em;}#sk-container-id-9 div.sk-estimator:hover {background-color: #d4ebff;}#sk-container-id-9 div.sk-parallel-item::after {content: \"\";width: 100%;border-bottom: 1px solid gray;flex-grow: 1;}#sk-container-id-9 div.sk-label:hover label.sk-toggleable__label {background-color: #d4ebff;}#sk-container-id-9 div.sk-serial::before {content: \"\";position: absolute;border-left: 1px solid gray;box-sizing: border-box;top: 0;bottom: 0;left: 50%;z-index: 0;}#sk-container-id-9 div.sk-serial {display: flex;flex-direction: column;align-items: center;background-color: white;padding-right: 0.2em;padding-left: 0.2em;position: relative;}#sk-container-id-9 div.sk-item {position: relative;z-index: 1;}#sk-container-id-9 div.sk-parallel {display: flex;align-items: stretch;justify-content: center;background-color: white;position: relative;}#sk-container-id-9 div.sk-item::before, #sk-container-id-9 div.sk-parallel-item::before {content: \"\";position: absolute;border-left: 1px solid gray;box-sizing: border-box;top: 0;bottom: 0;left: 50%;z-index: -1;}#sk-container-id-9 div.sk-parallel-item {display: flex;flex-direction: column;z-index: 1;position: relative;background-color: white;}#sk-container-id-9 div.sk-parallel-item:first-child::after {align-self: flex-end;width: 50%;}#sk-container-id-9 div.sk-parallel-item:last-child::after {align-self: flex-start;width: 50%;}#sk-container-id-9 div.sk-parallel-item:only-child::after {width: 0;}#sk-container-id-9 div.sk-dashed-wrapped {border: 1px dashed gray;margin: 0 0.4em 0.5em 0.4em;box-sizing: border-box;padding-bottom: 0.4em;background-color: white;}#sk-container-id-9 div.sk-label label {font-family: monospace;font-weight: bold;display: inline-block;line-height: 1.2em;}#sk-container-id-9 div.sk-label-container {text-align: center;}#sk-container-id-9 div.sk-container {/* jupyter's `normalize.less` sets `[hidden] { display: none; }` but bootstrap.min.css set `[hidden] { display: none !important; }` so we also need the `!important` here to be able to override the default hidden behavior on the sphinx rendered scikit-learn.org. See: https://github.com/scikit-learn/scikit-learn/issues/21755 */display: inline-block !important;position: relative;}#sk-container-id-9 div.sk-text-repr-fallback {display: none;}</style><div id=\"sk-container-id-9\" class=\"sk-top-container\"><div class=\"sk-text-repr-fallback\"><pre>SVC(C=1, cache_size=500, kernel=&#x27;sigmoid&#x27;)</pre><b>In a Jupyter environment, please rerun this cell to show the HTML representation or trust the notebook. <br />On GitHub, the HTML representation is unable to render, please try loading this page with nbviewer.org.</b></div><div class=\"sk-container\" hidden><div class=\"sk-item\"><div class=\"sk-estimator sk-toggleable\"><input class=\"sk-toggleable__control sk-hidden--visually\" id=\"sk-estimator-id-9\" type=\"checkbox\" checked><label for=\"sk-estimator-id-9\" class=\"sk-toggleable__label sk-toggleable__label-arrow\">SVC</label><div class=\"sk-toggleable__content\"><pre>SVC(C=1, cache_size=500, kernel=&#x27;sigmoid&#x27;)</pre></div></div></div></div></div>"
      ],
      "text/plain": [
       "SVC(C=1, cache_size=500, kernel='sigmoid')"
      ]
     },
     "execution_count": 72,
     "metadata": {},
     "output_type": "execute_result"
    }
   ],
   "source": [
    "n_linear_svm = svm.SVC(kernel = 'sigmoid',cache_size=500,C=1 )\n",
    "n_linear_svm.fit(X_train_nls,y_train_nls)"
   ]
  },
  {
   "cell_type": "code",
   "execution_count": 73,
   "metadata": {},
   "outputs": [],
   "source": [
    "y_val_predicted_nls = n_linear_svm.predict(X_val_nls)\n",
    "y_predicted_nls = n_linear_svm.predict(X_test_nls)"
   ]
  },
  {
   "cell_type": "code",
   "execution_count": 74,
   "metadata": {},
   "outputs": [
    {
     "name": "stdout",
     "output_type": "stream",
     "text": [
      "train_data_Ma_nls =  0.7349218168279971\n",
      "val_data_Ma_nls =  0.7295888824551245\n",
      "test_data_Ma_nls =  0.73453787352328\n"
     ]
    }
   ],
   "source": [
    "train_data_Ma_nls = n_linear_svm.score(X_train_nls,y_train_nls)\n",
    "print('train_data_Ma_nls = ',train_data_Ma_nls)\n",
    "\n",
    "val_data_Ma_nls = n_linear_svm.score(X_val_nls,y_val_nls)\n",
    "print('val_data_Ma_nls = ',val_data_Ma_nls)\n",
    "\n",
    "test_data_Ma_nls = n_linear_svm.score(X_test_nls,y_test_nls)\n",
    "print('test_data_Ma_nls = ',test_data_Ma_nls)"
   ]
  },
  {
   "cell_type": "code",
   "execution_count": 134,
   "metadata": {},
   "outputs": [
    {
     "data": {
      "text/plain": [
       "array([ 37, 167, 640, 592])"
      ]
     },
     "execution_count": 134,
     "metadata": {},
     "output_type": "execute_result"
    }
   ],
   "source": [
    "n_linear_svm.n_support_"
   ]
  },
  {
   "attachments": {},
   "cell_type": "markdown",
   "metadata": {},
   "source": [
    "now check a different values of C in validation model arbitrary"
   ]
  },
  {
   "cell_type": "code",
   "execution_count": 75,
   "metadata": {},
   "outputs": [],
   "source": [
    "y_val_predicted_nls_FDC = []  # FDC stands for \"For Different C\"\n",
    "val_data_Ma_nls_FDC = []\n",
    "C_range = np.arange(0.2,99.2,1.)\n",
    "for c in C_range:\n",
    "    n_linear_svm = svm.SVC(kernel = 'sigmoid',cache_size=500,C = c )\n",
    "    n_linear_svm.fit(X_train_nls,y_train_nls)\n",
    "    y_val_predicted_nls_FDC.append(n_linear_svm.predict(X_val_nls))\n",
    "    val_data_Ma_nls_FDC.append(n_linear_svm.score(X_val_nls,y_val_nls)) \n",
    "   \n"
   ]
  },
  {
   "attachments": {},
   "cell_type": "markdown",
   "metadata": {},
   "source": [
    "Define the best model"
   ]
  },
  {
   "cell_type": "code",
   "execution_count": 156,
   "metadata": {},
   "outputs": [
    {
     "name": "stdout",
     "output_type": "stream",
     "text": [
      "Best C is =  0.2\n",
      "val_data_nls_BMA is =  0.80833815865663\n"
     ]
    }
   ],
   "source": [
    "val_data_nls_BMA_index = np.argmax(val_data_Ma_nls_FDC) # \"BMA\" is stands for \"Best Mean Accuracy\" \n",
    "sig_BMA = val_data_Ma_nls_FDC [val_data_nls_BMA_index]\n",
    "sig_BC = C_range[val_data_nls_BMA_index]\n",
    "print('Best C is = ',sig_BC)\n",
    "print('val_data_nls_BMA is = ',sig_BMA)"
   ]
  },
  {
   "cell_type": "code",
   "execution_count": 77,
   "metadata": {},
   "outputs": [
    {
     "data": {
      "text/plain": [
       "[<matplotlib.lines.Line2D at 0x2395e6f5880>]"
      ]
     },
     "execution_count": 77,
     "metadata": {},
     "output_type": "execute_result"
    },
    {
     "data": {
      "image/png": "[encoded data removed]",
      "text/plain": [
       "<Figure size 640x480 with 1 Axes>"
      ]
     },
     "metadata": {},
     "output_type": "display_data"
    }
   ],
   "source": [
    "plt.plot(C_range,val_data_Ma_nls_FDC)"
   ]
  },
  {
   "cell_type": "code",
   "execution_count": 174,
   "metadata": {},
   "outputs": [
    {
     "name": "stdout",
     "output_type": "stream",
     "text": [
      "train_data_nls_BMA =  0.7972201538843385\n",
      "test_data_nls_BMA =  0.8158443363446838\n"
     ]
    }
   ],
   "source": [
    "n_linear_svm_best = svm.SVC(kernel = 'sigmoid',cache_size=500,C=sig_BC )\n",
    "n_linear_svm_best.fit(X_train_nls,y_train_nls)\n",
    "y_predicted_nls_BMA = n_linear_svm_best.predict(X_test_nls)\n",
    "train_data_nls_BMA = n_linear_svm_best.score(X_train_nls,y_train_nls) \n",
    "print('train_data_nls_BMA = ',train_data_nls_BMA)\n",
    "test_data_nls_BMA = n_linear_svm_best.score(X_test_nls,y_test_nls)\n",
    "print('test_data_nls_BMA = ',test_data_nls_BMA)"
   ]
  },
  {
   "cell_type": "code",
   "execution_count": 79,
   "metadata": {},
   "outputs": [
    {
     "data": {
      "text/plain": [
       "array([ 37, 303, 958, 935])"
      ]
     },
     "execution_count": 79,
     "metadata": {},
     "output_type": "execute_result"
    }
   ],
   "source": [
    "n_linear_svm_best.n_support_"
   ]
  },
  {
   "cell_type": "code",
   "execution_count": 80,
   "metadata": {},
   "outputs": [
    {
     "data": {
      "text/html": [
       "<div>\n",
       "<style scoped>\n",
       "    .dataframe tbody tr th:only-of-type {\n",
       "        vertical-align: middle;\n",
       "    }\n",
       "\n",
       "    .dataframe tbody tr th {\n",
       "        vertical-align: top;\n",
       "    }\n",
       "\n",
       "    .dataframe thead th {\n",
       "        text-align: right;\n",
       "    }\n",
       "</style>\n",
       "<table border=\"1\" class=\"dataframe\">\n",
       "  <thead>\n",
       "    <tr style=\"text-align: right;\">\n",
       "      <th></th>\n",
       "      <th>linear_svc_n_support_</th>\n",
       "      <th>n_linear_svm_best_n_support_</th>\n",
       "    </tr>\n",
       "  </thead>\n",
       "  <tbody>\n",
       "    <tr>\n",
       "      <th>0</th>\n",
       "      <td>[41, 179, 440, 396]</td>\n",
       "      <td>[37, 303, 958, 935]</td>\n",
       "    </tr>\n",
       "  </tbody>\n",
       "</table>\n",
       "</div>"
      ],
      "text/plain": [
       "  linear_svc_n_support_ n_linear_svm_best_n_support_\n",
       "0   [41, 179, 440, 396]          [37, 303, 958, 935]"
      ]
     },
     "metadata": {},
     "output_type": "display_data"
    }
   ],
   "source": [
    "d = {'linear_svc_n_support_' : [linear_svc.n_support_], \\\n",
    "      'n_linear_svm_best_n_support_' : [n_linear_svm_best.n_support_]}\n",
    "comp_n_supp_df = pd.DataFrame(data=d)\n",
    "display(comp_n_supp_df)"
   ]
  },
  {
   "attachments": {},
   "cell_type": "markdown",
   "metadata": {},
   "source": [
    "rbf kernel"
   ]
  },
  {
   "cell_type": "code",
   "execution_count": 103,
   "metadata": {},
   "outputs": [
    {
     "data": {
      "text/html": [
       "<style>#sk-container-id-15 {color: black;background-color: white;}#sk-container-id-15 pre{padding: 0;}#sk-container-id-15 div.sk-toggleable {background-color: white;}#sk-container-id-15 label.sk-toggleable__label {cursor: pointer;display: block;width: 100%;margin-bottom: 0;padding: 0.3em;box-sizing: border-box;text-align: center;}#sk-container-id-15 label.sk-toggleable__label-arrow:before {content: \"▸\";float: left;margin-right: 0.25em;color: #696969;}#sk-container-id-15 label.sk-toggleable__label-arrow:hover:before {color: black;}#sk-container-id-15 div.sk-estimator:hover label.sk-toggleable__label-arrow:before {color: black;}#sk-container-id-15 div.sk-toggleable__content {max-height: 0;max-width: 0;overflow: hidden;text-align: left;background-color: #f0f8ff;}#sk-container-id-15 div.sk-toggleable__content pre {margin: 0.2em;color: black;border-radius: 0.25em;background-color: #f0f8ff;}#sk-container-id-15 input.sk-toggleable__control:checked~div.sk-toggleable__content {max-height: 200px;max-width: 100%;overflow: auto;}#sk-container-id-15 input.sk-toggleable__control:checked~label.sk-toggleable__label-arrow:before {content: \"▾\";}#sk-container-id-15 div.sk-estimator input.sk-toggleable__control:checked~label.sk-toggleable__label {background-color: #d4ebff;}#sk-container-id-15 div.sk-label input.sk-toggleable__control:checked~label.sk-toggleable__label {background-color: #d4ebff;}#sk-container-id-15 input.sk-hidden--visually {border: 0;clip: rect(1px 1px 1px 1px);clip: rect(1px, 1px, 1px, 1px);height: 1px;margin: -1px;overflow: hidden;padding: 0;position: absolute;width: 1px;}#sk-container-id-15 div.sk-estimator {font-family: monospace;background-color: #f0f8ff;border: 1px dotted black;border-radius: 0.25em;box-sizing: border-box;margin-bottom: 0.5em;}#sk-container-id-15 div.sk-estimator:hover {background-color: #d4ebff;}#sk-container-id-15 div.sk-parallel-item::after {content: \"\";width: 100%;border-bottom: 1px solid gray;flex-grow: 1;}#sk-container-id-15 div.sk-label:hover label.sk-toggleable__label {background-color: #d4ebff;}#sk-container-id-15 div.sk-serial::before {content: \"\";position: absolute;border-left: 1px solid gray;box-sizing: border-box;top: 0;bottom: 0;left: 50%;z-index: 0;}#sk-container-id-15 div.sk-serial {display: flex;flex-direction: column;align-items: center;background-color: white;padding-right: 0.2em;padding-left: 0.2em;position: relative;}#sk-container-id-15 div.sk-item {position: relative;z-index: 1;}#sk-container-id-15 div.sk-parallel {display: flex;align-items: stretch;justify-content: center;background-color: white;position: relative;}#sk-container-id-15 div.sk-item::before, #sk-container-id-15 div.sk-parallel-item::before {content: \"\";position: absolute;border-left: 1px solid gray;box-sizing: border-box;top: 0;bottom: 0;left: 50%;z-index: -1;}#sk-container-id-15 div.sk-parallel-item {display: flex;flex-direction: column;z-index: 1;position: relative;background-color: white;}#sk-container-id-15 div.sk-parallel-item:first-child::after {align-self: flex-end;width: 50%;}#sk-container-id-15 div.sk-parallel-item:last-child::after {align-self: flex-start;width: 50%;}#sk-container-id-15 div.sk-parallel-item:only-child::after {width: 0;}#sk-container-id-15 div.sk-dashed-wrapped {border: 1px dashed gray;margin: 0 0.4em 0.5em 0.4em;box-sizing: border-box;padding-bottom: 0.4em;background-color: white;}#sk-container-id-15 div.sk-label label {font-family: monospace;font-weight: bold;display: inline-block;line-height: 1.2em;}#sk-container-id-15 div.sk-label-container {text-align: center;}#sk-container-id-15 div.sk-container {/* jupyter's `normalize.less` sets `[hidden] { display: none; }` but bootstrap.min.css set `[hidden] { display: none !important; }` so we also need the `!important` here to be able to override the default hidden behavior on the sphinx rendered scikit-learn.org. See: https://github.com/scikit-learn/scikit-learn/issues/21755 */display: inline-block !important;position: relative;}#sk-container-id-15 div.sk-text-repr-fallback {display: none;}</style><div id=\"sk-container-id-15\" class=\"sk-top-container\"><div class=\"sk-text-repr-fallback\"><pre>SVC(C=1, cache_size=500)</pre><b>In a Jupyter environment, please rerun this cell to show the HTML representation or trust the notebook. <br />On GitHub, the HTML representation is unable to render, please try loading this page with nbviewer.org.</b></div><div class=\"sk-container\" hidden><div class=\"sk-item\"><div class=\"sk-estimator sk-toggleable\"><input class=\"sk-toggleable__control sk-hidden--visually\" id=\"sk-estimator-id-21\" type=\"checkbox\" checked><label for=\"sk-estimator-id-21\" class=\"sk-toggleable__label sk-toggleable__label-arrow\">SVC</label><div class=\"sk-toggleable__content\"><pre>SVC(C=1, cache_size=500)</pre></div></div></div></div></div>"
      ],
      "text/plain": [
       "SVC(C=1, cache_size=500)"
      ]
     },
     "execution_count": 103,
     "metadata": {},
     "output_type": "execute_result"
    }
   ],
   "source": [
    "rbf_svm = svm.SVC(kernel = 'rbf',cache_size=500,C=1 )\n",
    "rbf_svm.fit(X_train_nls,y_train_nls)"
   ]
  },
  {
   "cell_type": "code",
   "execution_count": 104,
   "metadata": {},
   "outputs": [],
   "source": [
    "y_val_predicted_rbf = rbf_svm.predict(X_val_nls)\n",
    "y_predicted_rbf = rbf_svm.predict(X_test_nls)"
   ]
  },
  {
   "cell_type": "code",
   "execution_count": 105,
   "metadata": {},
   "outputs": [
    {
     "name": "stdout",
     "output_type": "stream",
     "text": [
      "train_data_Ma_nls_rbf =  0.9756763464879623\n",
      "val_data_Ma_nls_rbf =  0.9826288361320209\n",
      "test_data_Ma_nls_rbf =  0.9728978457261988\n"
     ]
    }
   ],
   "source": [
    "train_data_Ma_nls_rbf = rbf_svm.score(X_train_nls,y_train_nls)\n",
    "print('train_data_Ma_nls_rbf = ',train_data_Ma_nls_rbf)\n",
    "\n",
    "val_data_Ma_nls_rbf = rbf_svm.score(X_val_nls,y_val_nls)\n",
    "print('val_data_Ma_nls_rbf = ',val_data_Ma_nls_rbf)\n",
    "\n",
    "test_data_Ma_nls_rbf = rbf_svm.score(X_test_nls,y_test_nls)\n",
    "print('test_data_Ma_nls_rbf = ',test_data_Ma_nls_rbf)"
   ]
  },
  {
   "cell_type": "code",
   "execution_count": 135,
   "metadata": {},
   "outputs": [
    {
     "data": {
      "text/plain": [
       "array([ 12,  38, 123,  86])"
      ]
     },
     "execution_count": 135,
     "metadata": {},
     "output_type": "execute_result"
    }
   ],
   "source": [
    "rbf_svm.n_support_"
   ]
  },
  {
   "cell_type": "code",
   "execution_count": 106,
   "metadata": {},
   "outputs": [],
   "source": [
    "y_val_predicted_nls_rbf_FDC = []  # FDC stands for \"For Different C\"\n",
    "val_data_Ma_nls_rbf_FDC = []\n",
    "C_range = np.arange(0.2,99.2,1.)\n",
    "for c in C_range:\n",
    "    rbf_svm = svm.SVC(kernel = 'rbf',cache_size=500,C = c )\n",
    "    rbf_svm.fit(X_train_nls,y_train_nls)\n",
    "    y_val_predicted_nls_rbf_FDC.append(rbf_svm.predict(X_val_nls))\n",
    "    val_data_Ma_nls_rbf_FDC.append(rbf_svm.score(X_val_nls,y_val_nls)) \n",
    "   \n"
   ]
  },
  {
   "cell_type": "code",
   "execution_count": 162,
   "metadata": {},
   "outputs": [
    {
     "name": "stdout",
     "output_type": "stream",
     "text": [
      "Best C is =  48.2\n",
      "val_data_nls_rbf_BMA is =  0.9918934568616097\n"
     ]
    }
   ],
   "source": [
    "val_data_nls_rbf_BMA_index = np.argmax(val_data_Ma_nls_rbf_FDC) # \"BMA\" is stands for \"Best Mean Accuracy\" \n",
    "BMA_S_rbf = val_data_Ma_nls_rbf_FDC [val_data_nls_rbf_BMA_index]\n",
    "BC_S_rbf = C_range[val_data_nls_rbf_BMA_index]\n",
    "print('Best C is = ',BC_S_rbf)\n",
    "print('val_data_nls_rbf_BMA is = ',BMA_S_rbf)"
   ]
  },
  {
   "cell_type": "code",
   "execution_count": 108,
   "metadata": {},
   "outputs": [
    {
     "data": {
      "text/plain": [
       "[<matplotlib.lines.Line2D at 0x2395e7f2a00>]"
      ]
     },
     "execution_count": 108,
     "metadata": {},
     "output_type": "execute_result"
    },
    {
     "data": {
      "image/png": "[encoded data removed]",
      "text/plain": [
       "<Figure size 640x480 with 1 Axes>"
      ]
     },
     "metadata": {},
     "output_type": "display_data"
    }
   ],
   "source": [
    "plt.plot(C_range,val_data_Ma_nls_rbf_FDC)"
   ]
  },
  {
   "cell_type": "code",
   "execution_count": 175,
   "metadata": {},
   "outputs": [
    {
     "name": "stdout",
     "output_type": "stream",
     "text": [
      "train_data_nls_rbf_BMA =  0.998758997269794\n",
      "test_data_nls_rbf_BMA =  0.9895760945100764\n"
     ]
    }
   ],
   "source": [
    "rbf_svm_best = svm.SVC(kernel = 'rbf',cache_size=500,C=BC_S_rbf )\n",
    "\n",
    "rbf_svm_best.fit(X_train_nls,y_train_nls)\n",
    "\n",
    "y_predicted_nls_rbf_BMA = rbf_svm_best.predict(X_test_nls)\n",
    "\n",
    "\n",
    "train_data_nls_rbf_BMA = rbf_svm_best.score(X_train_nls,y_train_nls) \n",
    "print('train_data_nls_rbf_BMA = ',train_data_nls_rbf_BMA)\n",
    "test_data_nls_rbf_BMA = rbf_svm_best.score(X_test_nls,y_test_nls)\n",
    "print('test_data_nls_rbf_BMA = ',test_data_nls_rbf_BMA)"
   ]
  },
  {
   "cell_type": "code",
   "execution_count": 110,
   "metadata": {},
   "outputs": [
    {
     "data": {
      "text/plain": [
       "array([ 14,  42, 133,  92])"
      ]
     },
     "execution_count": 110,
     "metadata": {},
     "output_type": "execute_result"
    }
   ],
   "source": [
    "rbf_svm_best.n_support_"
   ]
  },
  {
   "attachments": {},
   "cell_type": "markdown",
   "metadata": {},
   "source": [
    "poly kernel"
   ]
  },
  {
   "cell_type": "code",
   "execution_count": 111,
   "metadata": {},
   "outputs": [
    {
     "data": {
      "text/html": [
       "<style>#sk-container-id-16 {color: black;background-color: white;}#sk-container-id-16 pre{padding: 0;}#sk-container-id-16 div.sk-toggleable {background-color: white;}#sk-container-id-16 label.sk-toggleable__label {cursor: pointer;display: block;width: 100%;margin-bottom: 0;padding: 0.3em;box-sizing: border-box;text-align: center;}#sk-container-id-16 label.sk-toggleable__label-arrow:before {content: \"▸\";float: left;margin-right: 0.25em;color: #696969;}#sk-container-id-16 label.sk-toggleable__label-arrow:hover:before {color: black;}#sk-container-id-16 div.sk-estimator:hover label.sk-toggleable__label-arrow:before {color: black;}#sk-container-id-16 div.sk-toggleable__content {max-height: 0;max-width: 0;overflow: hidden;text-align: left;background-color: #f0f8ff;}#sk-container-id-16 div.sk-toggleable__content pre {margin: 0.2em;color: black;border-radius: 0.25em;background-color: #f0f8ff;}#sk-container-id-16 input.sk-toggleable__control:checked~div.sk-toggleable__content {max-height: 200px;max-width: 100%;overflow: auto;}#sk-container-id-16 input.sk-toggleable__control:checked~label.sk-toggleable__label-arrow:before {content: \"▾\";}#sk-container-id-16 div.sk-estimator input.sk-toggleable__control:checked~label.sk-toggleable__label {background-color: #d4ebff;}#sk-container-id-16 div.sk-label input.sk-toggleable__control:checked~label.sk-toggleable__label {background-color: #d4ebff;}#sk-container-id-16 input.sk-hidden--visually {border: 0;clip: rect(1px 1px 1px 1px);clip: rect(1px, 1px, 1px, 1px);height: 1px;margin: -1px;overflow: hidden;padding: 0;position: absolute;width: 1px;}#sk-container-id-16 div.sk-estimator {font-family: monospace;background-color: #f0f8ff;border: 1px dotted black;border-radius: 0.25em;box-sizing: border-box;margin-bottom: 0.5em;}#sk-container-id-16 div.sk-estimator:hover {background-color: #d4ebff;}#sk-container-id-16 div.sk-parallel-item::after {content: \"\";width: 100%;border-bottom: 1px solid gray;flex-grow: 1;}#sk-container-id-16 div.sk-label:hover label.sk-toggleable__label {background-color: #d4ebff;}#sk-container-id-16 div.sk-serial::before {content: \"\";position: absolute;border-left: 1px solid gray;box-sizing: border-box;top: 0;bottom: 0;left: 50%;z-index: 0;}#sk-container-id-16 div.sk-serial {display: flex;flex-direction: column;align-items: center;background-color: white;padding-right: 0.2em;padding-left: 0.2em;position: relative;}#sk-container-id-16 div.sk-item {position: relative;z-index: 1;}#sk-container-id-16 div.sk-parallel {display: flex;align-items: stretch;justify-content: center;background-color: white;position: relative;}#sk-container-id-16 div.sk-item::before, #sk-container-id-16 div.sk-parallel-item::before {content: \"\";position: absolute;border-left: 1px solid gray;box-sizing: border-box;top: 0;bottom: 0;left: 50%;z-index: -1;}#sk-container-id-16 div.sk-parallel-item {display: flex;flex-direction: column;z-index: 1;position: relative;background-color: white;}#sk-container-id-16 div.sk-parallel-item:first-child::after {align-self: flex-end;width: 50%;}#sk-container-id-16 div.sk-parallel-item:last-child::after {align-self: flex-start;width: 50%;}#sk-container-id-16 div.sk-parallel-item:only-child::after {width: 0;}#sk-container-id-16 div.sk-dashed-wrapped {border: 1px dashed gray;margin: 0 0.4em 0.5em 0.4em;box-sizing: border-box;padding-bottom: 0.4em;background-color: white;}#sk-container-id-16 div.sk-label label {font-family: monospace;font-weight: bold;display: inline-block;line-height: 1.2em;}#sk-container-id-16 div.sk-label-container {text-align: center;}#sk-container-id-16 div.sk-container {/* jupyter's `normalize.less` sets `[hidden] { display: none; }` but bootstrap.min.css set `[hidden] { display: none !important; }` so we also need the `!important` here to be able to override the default hidden behavior on the sphinx rendered scikit-learn.org. See: https://github.com/scikit-learn/scikit-learn/issues/21755 */display: inline-block !important;position: relative;}#sk-container-id-16 div.sk-text-repr-fallback {display: none;}</style><div id=\"sk-container-id-16\" class=\"sk-top-container\"><div class=\"sk-text-repr-fallback\"><pre>SVC(C=1, cache_size=500, kernel=&#x27;poly&#x27;)</pre><b>In a Jupyter environment, please rerun this cell to show the HTML representation or trust the notebook. <br />On GitHub, the HTML representation is unable to render, please try loading this page with nbviewer.org.</b></div><div class=\"sk-container\" hidden><div class=\"sk-item\"><div class=\"sk-estimator sk-toggleable\"><input class=\"sk-toggleable__control sk-hidden--visually\" id=\"sk-estimator-id-22\" type=\"checkbox\" checked><label for=\"sk-estimator-id-22\" class=\"sk-toggleable__label sk-toggleable__label-arrow\">SVC</label><div class=\"sk-toggleable__content\"><pre>SVC(C=1, cache_size=500, kernel=&#x27;poly&#x27;)</pre></div></div></div></div></div>"
      ],
      "text/plain": [
       "SVC(C=1, cache_size=500, kernel='poly')"
      ]
     },
     "execution_count": 111,
     "metadata": {},
     "output_type": "execute_result"
    }
   ],
   "source": [
    "poly_svm = svm.SVC(kernel = 'poly',cache_size=500,C=1 )\n",
    "poly_svm.fit(X_train_nls,y_train_nls)"
   ]
  },
  {
   "cell_type": "code",
   "execution_count": 112,
   "metadata": {},
   "outputs": [],
   "source": [
    "y_val_predicted_poly = poly_svm.predict(X_val_nls)\n",
    "y_predicted_poly = poly_svm.predict(X_test_nls)"
   ]
  },
  {
   "cell_type": "code",
   "execution_count": 113,
   "metadata": {},
   "outputs": [
    {
     "name": "stdout",
     "output_type": "stream",
     "text": [
      "train_data_Ma_nls_poly =  0.9754281459419211\n",
      "val_data_Ma_nls_poly =  0.9803126809496236\n",
      "test_data_Ma_nls_poly =  0.9715079916608756\n"
     ]
    }
   ],
   "source": [
    "train_data_Ma_nls_poly = poly_svm.score(X_train_nls,y_train_nls)\n",
    "print('train_data_Ma_nls_poly = ',train_data_Ma_nls_poly)\n",
    "\n",
    "val_data_Ma_nls_poly = poly_svm.score(X_val_nls,y_val_nls)\n",
    "print('val_data_Ma_nls_poly = ',val_data_Ma_nls_poly)\n",
    "\n",
    "test_data_Ma_nls_poly = poly_svm.score(X_test_nls,y_test_nls)\n",
    "print('test_data_Ma_nls_poly = ',test_data_Ma_nls_poly)"
   ]
  },
  {
   "cell_type": "code",
   "execution_count": 136,
   "metadata": {},
   "outputs": [
    {
     "data": {
      "text/plain": [
       "array([ 10,  38, 114,  81])"
      ]
     },
     "execution_count": 136,
     "metadata": {},
     "output_type": "execute_result"
    }
   ],
   "source": [
    "poly_svm.n_support_"
   ]
  },
  {
   "cell_type": "code",
   "execution_count": 114,
   "metadata": {},
   "outputs": [],
   "source": [
    "y_val_predicted_nls_poly_FDC = []  # FDC stands for \"For Different C\"\n",
    "val_data_Ma_nls_poly_FDC = []\n",
    "C_range = np.arange(0.2,99.2,1.)\n",
    "for c in C_range:\n",
    "    poly_svm = svm.SVC(kernel = 'poly',cache_size=500,C = c )\n",
    "    poly_svm.fit(X_train_nls,y_train_nls)\n",
    "    y_val_predicted_nls_poly_FDC.append(poly_svm.predict(X_val_nls))\n",
    "    val_data_Ma_nls_poly_FDC.append(poly_svm.score(X_val_nls,y_val_nls)) "
   ]
  },
  {
   "cell_type": "code",
   "execution_count": 165,
   "metadata": {},
   "outputs": [
    {
     "name": "stdout",
     "output_type": "stream",
     "text": [
      "Best C is =  13.2\n",
      "val_data_nls_poly_BMA is =  0.9895773016792125\n"
     ]
    }
   ],
   "source": [
    "val_data_nls_poly_BMA_index = np.argmax(val_data_Ma_nls_poly_FDC) # \"BMA\" is stands for \"Best Mean Accuracy\" \n",
    "BMA_s_poly = val_data_Ma_nls_poly_FDC [val_data_nls_poly_BMA_index]\n",
    "BC_s_poly = C_range[val_data_nls_poly_BMA_index]\n",
    "print('Best C is = ',BC_s_poly)\n",
    "print('val_data_nls_poly_BMA is = ',BMA_s_poly)"
   ]
  },
  {
   "cell_type": "code",
   "execution_count": 116,
   "metadata": {},
   "outputs": [
    {
     "data": {
      "text/plain": [
       "[<matplotlib.lines.Line2D at 0x2396583b670>]"
      ]
     },
     "execution_count": 116,
     "metadata": {},
     "output_type": "execute_result"
    },
    {
     "data": {
      "image/png": "[encoded data removed]",
      "text/plain": [
       "<Figure size 640x480 with 1 Axes>"
      ]
     },
     "metadata": {},
     "output_type": "display_data"
    }
   ],
   "source": [
    "plt.plot(C_range,val_data_Ma_nls_rbf_FDC)"
   ]
  },
  {
   "cell_type": "code",
   "execution_count": 176,
   "metadata": {},
   "outputs": [
    {
     "name": "stdout",
     "output_type": "stream",
     "text": [
      "train_data_nls_poly_BMA =  0.9965251923554231\n",
      "test_data_nls_poly_BMA =  0.985406532314107\n"
     ]
    }
   ],
   "source": [
    "poly_svm_best = svm.SVC(kernel = 'poly',cache_size=500,C=BC_s_poly )\n",
    "\n",
    "poly_svm_best.fit(X_train_nls,y_train_nls)\n",
    "\n",
    "y_predicted_nls_poly_BMA = poly_svm_best.predict(X_test_nls)\n",
    "\n",
    "\n",
    "train_data_nls_poly_BMA = poly_svm_best.score(X_train_nls,y_train_nls) \n",
    "print('train_data_nls_poly_BMA = ',train_data_nls_poly_BMA)\n",
    "test_data_nls_poly_BMA = poly_svm_best.score(X_test_nls,y_test_nls)\n",
    "print('test_data_nls_poly_BMA = ',test_data_nls_poly_BMA)"
   ]
  },
  {
   "cell_type": "code",
   "execution_count": 118,
   "metadata": {},
   "outputs": [
    {
     "data": {
      "text/plain": [
       "array([ 22,  47, 143, 109])"
      ]
     },
     "execution_count": 118,
     "metadata": {},
     "output_type": "execute_result"
    }
   ],
   "source": [
    "poly_svm_best.n_support_"
   ]
  },
  {
   "attachments": {},
   "cell_type": "markdown",
   "metadata": {},
   "source": [
    "last part (4-fold cross validation of the previous part)"
   ]
  },
  {
   "cell_type": "code",
   "execution_count": 126,
   "metadata": {},
   "outputs": [
    {
     "data": {
      "text/html": [
       "<style>#sk-container-id-19 {color: black;background-color: white;}#sk-container-id-19 pre{padding: 0;}#sk-container-id-19 div.sk-toggleable {background-color: white;}#sk-container-id-19 label.sk-toggleable__label {cursor: pointer;display: block;width: 100%;margin-bottom: 0;padding: 0.3em;box-sizing: border-box;text-align: center;}#sk-container-id-19 label.sk-toggleable__label-arrow:before {content: \"▸\";float: left;margin-right: 0.25em;color: #696969;}#sk-container-id-19 label.sk-toggleable__label-arrow:hover:before {color: black;}#sk-container-id-19 div.sk-estimator:hover label.sk-toggleable__label-arrow:before {color: black;}#sk-container-id-19 div.sk-toggleable__content {max-height: 0;max-width: 0;overflow: hidden;text-align: left;background-color: #f0f8ff;}#sk-container-id-19 div.sk-toggleable__content pre {margin: 0.2em;color: black;border-radius: 0.25em;background-color: #f0f8ff;}#sk-container-id-19 input.sk-toggleable__control:checked~div.sk-toggleable__content {max-height: 200px;max-width: 100%;overflow: auto;}#sk-container-id-19 input.sk-toggleable__control:checked~label.sk-toggleable__label-arrow:before {content: \"▾\";}#sk-container-id-19 div.sk-estimator input.sk-toggleable__control:checked~label.sk-toggleable__label {background-color: #d4ebff;}#sk-container-id-19 div.sk-label input.sk-toggleable__control:checked~label.sk-toggleable__label {background-color: #d4ebff;}#sk-container-id-19 input.sk-hidden--visually {border: 0;clip: rect(1px 1px 1px 1px);clip: rect(1px, 1px, 1px, 1px);height: 1px;margin: -1px;overflow: hidden;padding: 0;position: absolute;width: 1px;}#sk-container-id-19 div.sk-estimator {font-family: monospace;background-color: #f0f8ff;border: 1px dotted black;border-radius: 0.25em;box-sizing: border-box;margin-bottom: 0.5em;}#sk-container-id-19 div.sk-estimator:hover {background-color: #d4ebff;}#sk-container-id-19 div.sk-parallel-item::after {content: \"\";width: 100%;border-bottom: 1px solid gray;flex-grow: 1;}#sk-container-id-19 div.sk-label:hover label.sk-toggleable__label {background-color: #d4ebff;}#sk-container-id-19 div.sk-serial::before {content: \"\";position: absolute;border-left: 1px solid gray;box-sizing: border-box;top: 0;bottom: 0;left: 50%;z-index: 0;}#sk-container-id-19 div.sk-serial {display: flex;flex-direction: column;align-items: center;background-color: white;padding-right: 0.2em;padding-left: 0.2em;position: relative;}#sk-container-id-19 div.sk-item {position: relative;z-index: 1;}#sk-container-id-19 div.sk-parallel {display: flex;align-items: stretch;justify-content: center;background-color: white;position: relative;}#sk-container-id-19 div.sk-item::before, #sk-container-id-19 div.sk-parallel-item::before {content: \"\";position: absolute;border-left: 1px solid gray;box-sizing: border-box;top: 0;bottom: 0;left: 50%;z-index: -1;}#sk-container-id-19 div.sk-parallel-item {display: flex;flex-direction: column;z-index: 1;position: relative;background-color: white;}#sk-container-id-19 div.sk-parallel-item:first-child::after {align-self: flex-end;width: 50%;}#sk-container-id-19 div.sk-parallel-item:last-child::after {align-self: flex-start;width: 50%;}#sk-container-id-19 div.sk-parallel-item:only-child::after {width: 0;}#sk-container-id-19 div.sk-dashed-wrapped {border: 1px dashed gray;margin: 0 0.4em 0.5em 0.4em;box-sizing: border-box;padding-bottom: 0.4em;background-color: white;}#sk-container-id-19 div.sk-label label {font-family: monospace;font-weight: bold;display: inline-block;line-height: 1.2em;}#sk-container-id-19 div.sk-label-container {text-align: center;}#sk-container-id-19 div.sk-container {/* jupyter's `normalize.less` sets `[hidden] { display: none; }` but bootstrap.min.css set `[hidden] { display: none !important; }` so we also need the `!important` here to be able to override the default hidden behavior on the sphinx rendered scikit-learn.org. See: https://github.com/scikit-learn/scikit-learn/issues/21755 */display: inline-block !important;position: relative;}#sk-container-id-19 div.sk-text-repr-fallback {display: none;}</style><div id=\"sk-container-id-19\" class=\"sk-top-container\"><div class=\"sk-text-repr-fallback\"><pre>GridSearchCV(cv=4, estimator=SVC(),\n",
       "             param_grid=[{&#x27;C&#x27;: array([ 0.2,  1.2,  2.2,  3.2,  4.2,  5.2,  6.2,  7.2,  8.2,  9.2, 10.2,\n",
       "       11.2, 12.2, 13.2, 14.2, 15.2, 16.2, 17.2, 18.2, 19.2, 20.2, 21.2,\n",
       "       22.2, 23.2]),\n",
       "                          &#x27;kernel&#x27;: [&#x27;rbf&#x27;]}])</pre><b>In a Jupyter environment, please rerun this cell to show the HTML representation or trust the notebook. <br />On GitHub, the HTML representation is unable to render, please try loading this page with nbviewer.org.</b></div><div class=\"sk-container\" hidden><div class=\"sk-item sk-dashed-wrapped\"><div class=\"sk-label-container\"><div class=\"sk-label sk-toggleable\"><input class=\"sk-toggleable__control sk-hidden--visually\" id=\"sk-estimator-id-29\" type=\"checkbox\" ><label for=\"sk-estimator-id-29\" class=\"sk-toggleable__label sk-toggleable__label-arrow\">GridSearchCV</label><div class=\"sk-toggleable__content\"><pre>GridSearchCV(cv=4, estimator=SVC(),\n",
       "             param_grid=[{&#x27;C&#x27;: array([ 0.2,  1.2,  2.2,  3.2,  4.2,  5.2,  6.2,  7.2,  8.2,  9.2, 10.2,\n",
       "       11.2, 12.2, 13.2, 14.2, 15.2, 16.2, 17.2, 18.2, 19.2, 20.2, 21.2,\n",
       "       22.2, 23.2]),\n",
       "                          &#x27;kernel&#x27;: [&#x27;rbf&#x27;]}])</pre></div></div></div><div class=\"sk-parallel\"><div class=\"sk-parallel-item\"><div class=\"sk-item\"><div class=\"sk-label-container\"><div class=\"sk-label sk-toggleable\"><input class=\"sk-toggleable__control sk-hidden--visually\" id=\"sk-estimator-id-30\" type=\"checkbox\" ><label for=\"sk-estimator-id-30\" class=\"sk-toggleable__label sk-toggleable__label-arrow\">estimator: SVC</label><div class=\"sk-toggleable__content\"><pre>SVC()</pre></div></div></div><div class=\"sk-serial\"><div class=\"sk-item\"><div class=\"sk-estimator sk-toggleable\"><input class=\"sk-toggleable__control sk-hidden--visually\" id=\"sk-estimator-id-31\" type=\"checkbox\" ><label for=\"sk-estimator-id-31\" class=\"sk-toggleable__label sk-toggleable__label-arrow\">SVC</label><div class=\"sk-toggleable__content\"><pre>SVC()</pre></div></div></div></div></div></div></div></div></div></div>"
      ],
      "text/plain": [
       "GridSearchCV(cv=4, estimator=SVC(),\n",
       "             param_grid=[{'C': array([ 0.2,  1.2,  2.2,  3.2,  4.2,  5.2,  6.2,  7.2,  8.2,  9.2, 10.2,\n",
       "       11.2, 12.2, 13.2, 14.2, 15.2, 16.2, 17.2, 18.2, 19.2, 20.2, 21.2,\n",
       "       22.2, 23.2]),\n",
       "                          'kernel': ['rbf']}])"
      ]
     },
     "execution_count": 126,
     "metadata": {},
     "output_type": "execute_result"
    }
   ],
   "source": [
    "parameters = [{'kernel': ['rbf'],\n",
    "                'C': np.arange(0.2,24.2,1.)}]\n",
    "rbf_FDC_CV_best = GridSearchCV(svm.SVC(kernel='rbf',decision_function_shape='ovr'), parameters,cv=4)\n",
    "rbf_FDC_CV_best.fit(X_train, y_train)"
   ]
  },
  {
   "cell_type": "code",
   "execution_count": 129,
   "metadata": {},
   "outputs": [
    {
     "name": "stdout",
     "output_type": "stream",
     "text": [
      "{'C': 18.2, 'kernel': 'rbf'}\n",
      "train_data_nls_rbf_CV =  0.9978157267672756\n",
      "test_data_nls_rbf_CV =  0.9884205650764243\n"
     ]
    }
   ],
   "source": [
    "print(rbf_FDC_CV_best.best_params_)\n",
    "y_predicted_nls_rbf_CV = rbf_FDC_CV_best.predict(X_test)\n",
    "\n",
    "train_data_nls_rbf_CV = rbf_FDC_CV_best.score(X_train,y_train) \n",
    "print('train_data_nls_rbf_CV = ',train_data_nls_rbf_CV)\n",
    "test_data_nls_rbf_CV = rbf_FDC_CV_best.score(X_test,y_test)\n",
    "print('test_data_nls_rbf_CV = ',test_data_nls_rbf_CV)"
   ]
  },
  {
   "cell_type": "code",
   "execution_count": 130,
   "metadata": {},
   "outputs": [
    {
     "data": {
      "text/plain": [
       "array([ 20,  56, 163, 114])"
      ]
     },
     "execution_count": 130,
     "metadata": {},
     "output_type": "execute_result"
    }
   ],
   "source": [
    "rbf_FDC_CV_best.best_estimator_.n_support_"
   ]
  },
  {
   "cell_type": "code",
   "execution_count": 131,
   "metadata": {},
   "outputs": [
    {
     "data": {
      "text/html": [
       "<style>#sk-container-id-20 {color: black;background-color: white;}#sk-container-id-20 pre{padding: 0;}#sk-container-id-20 div.sk-toggleable {background-color: white;}#sk-container-id-20 label.sk-toggleable__label {cursor: pointer;display: block;width: 100%;margin-bottom: 0;padding: 0.3em;box-sizing: border-box;text-align: center;}#sk-container-id-20 label.sk-toggleable__label-arrow:before {content: \"▸\";float: left;margin-right: 0.25em;color: #696969;}#sk-container-id-20 label.sk-toggleable__label-arrow:hover:before {color: black;}#sk-container-id-20 div.sk-estimator:hover label.sk-toggleable__label-arrow:before {color: black;}#sk-container-id-20 div.sk-toggleable__content {max-height: 0;max-width: 0;overflow: hidden;text-align: left;background-color: #f0f8ff;}#sk-container-id-20 div.sk-toggleable__content pre {margin: 0.2em;color: black;border-radius: 0.25em;background-color: #f0f8ff;}#sk-container-id-20 input.sk-toggleable__control:checked~div.sk-toggleable__content {max-height: 200px;max-width: 100%;overflow: auto;}#sk-container-id-20 input.sk-toggleable__control:checked~label.sk-toggleable__label-arrow:before {content: \"▾\";}#sk-container-id-20 div.sk-estimator input.sk-toggleable__control:checked~label.sk-toggleable__label {background-color: #d4ebff;}#sk-container-id-20 div.sk-label input.sk-toggleable__control:checked~label.sk-toggleable__label {background-color: #d4ebff;}#sk-container-id-20 input.sk-hidden--visually {border: 0;clip: rect(1px 1px 1px 1px);clip: rect(1px, 1px, 1px, 1px);height: 1px;margin: -1px;overflow: hidden;padding: 0;position: absolute;width: 1px;}#sk-container-id-20 div.sk-estimator {font-family: monospace;background-color: #f0f8ff;border: 1px dotted black;border-radius: 0.25em;box-sizing: border-box;margin-bottom: 0.5em;}#sk-container-id-20 div.sk-estimator:hover {background-color: #d4ebff;}#sk-container-id-20 div.sk-parallel-item::after {content: \"\";width: 100%;border-bottom: 1px solid gray;flex-grow: 1;}#sk-container-id-20 div.sk-label:hover label.sk-toggleable__label {background-color: #d4ebff;}#sk-container-id-20 div.sk-serial::before {content: \"\";position: absolute;border-left: 1px solid gray;box-sizing: border-box;top: 0;bottom: 0;left: 50%;z-index: 0;}#sk-container-id-20 div.sk-serial {display: flex;flex-direction: column;align-items: center;background-color: white;padding-right: 0.2em;padding-left: 0.2em;position: relative;}#sk-container-id-20 div.sk-item {position: relative;z-index: 1;}#sk-container-id-20 div.sk-parallel {display: flex;align-items: stretch;justify-content: center;background-color: white;position: relative;}#sk-container-id-20 div.sk-item::before, #sk-container-id-20 div.sk-parallel-item::before {content: \"\";position: absolute;border-left: 1px solid gray;box-sizing: border-box;top: 0;bottom: 0;left: 50%;z-index: -1;}#sk-container-id-20 div.sk-parallel-item {display: flex;flex-direction: column;z-index: 1;position: relative;background-color: white;}#sk-container-id-20 div.sk-parallel-item:first-child::after {align-self: flex-end;width: 50%;}#sk-container-id-20 div.sk-parallel-item:last-child::after {align-self: flex-start;width: 50%;}#sk-container-id-20 div.sk-parallel-item:only-child::after {width: 0;}#sk-container-id-20 div.sk-dashed-wrapped {border: 1px dashed gray;margin: 0 0.4em 0.5em 0.4em;box-sizing: border-box;padding-bottom: 0.4em;background-color: white;}#sk-container-id-20 div.sk-label label {font-family: monospace;font-weight: bold;display: inline-block;line-height: 1.2em;}#sk-container-id-20 div.sk-label-container {text-align: center;}#sk-container-id-20 div.sk-container {/* jupyter's `normalize.less` sets `[hidden] { display: none; }` but bootstrap.min.css set `[hidden] { display: none !important; }` so we also need the `!important` here to be able to override the default hidden behavior on the sphinx rendered scikit-learn.org. See: https://github.com/scikit-learn/scikit-learn/issues/21755 */display: inline-block !important;position: relative;}#sk-container-id-20 div.sk-text-repr-fallback {display: none;}</style><div id=\"sk-container-id-20\" class=\"sk-top-container\"><div class=\"sk-text-repr-fallback\"><pre>GridSearchCV(cv=4, estimator=SVC(kernel=&#x27;poly&#x27;),\n",
       "             param_grid=[{&#x27;C&#x27;: array([ 0.2,  1.2,  2.2,  3.2,  4.2,  5.2,  6.2,  7.2,  8.2,  9.2, 10.2,\n",
       "       11.2, 12.2, 13.2, 14.2, 15.2, 16.2, 17.2, 18.2, 19.2, 20.2, 21.2,\n",
       "       22.2, 23.2]),\n",
       "                          &#x27;kernel&#x27;: [&#x27;poly&#x27;]}])</pre><b>In a Jupyter environment, please rerun this cell to show the HTML representation or trust the notebook. <br />On GitHub, the HTML representation is unable to render, please try loading this page with nbviewer.org.</b></div><div class=\"sk-container\" hidden><div class=\"sk-item sk-dashed-wrapped\"><div class=\"sk-label-container\"><div class=\"sk-label sk-toggleable\"><input class=\"sk-toggleable__control sk-hidden--visually\" id=\"sk-estimator-id-32\" type=\"checkbox\" ><label for=\"sk-estimator-id-32\" class=\"sk-toggleable__label sk-toggleable__label-arrow\">GridSearchCV</label><div class=\"sk-toggleable__content\"><pre>GridSearchCV(cv=4, estimator=SVC(kernel=&#x27;poly&#x27;),\n",
       "             param_grid=[{&#x27;C&#x27;: array([ 0.2,  1.2,  2.2,  3.2,  4.2,  5.2,  6.2,  7.2,  8.2,  9.2, 10.2,\n",
       "       11.2, 12.2, 13.2, 14.2, 15.2, 16.2, 17.2, 18.2, 19.2, 20.2, 21.2,\n",
       "       22.2, 23.2]),\n",
       "                          &#x27;kernel&#x27;: [&#x27;poly&#x27;]}])</pre></div></div></div><div class=\"sk-parallel\"><div class=\"sk-parallel-item\"><div class=\"sk-item\"><div class=\"sk-label-container\"><div class=\"sk-label sk-toggleable\"><input class=\"sk-toggleable__control sk-hidden--visually\" id=\"sk-estimator-id-33\" type=\"checkbox\" ><label for=\"sk-estimator-id-33\" class=\"sk-toggleable__label sk-toggleable__label-arrow\">estimator: SVC</label><div class=\"sk-toggleable__content\"><pre>SVC(kernel=&#x27;poly&#x27;)</pre></div></div></div><div class=\"sk-serial\"><div class=\"sk-item\"><div class=\"sk-estimator sk-toggleable\"><input class=\"sk-toggleable__control sk-hidden--visually\" id=\"sk-estimator-id-34\" type=\"checkbox\" ><label for=\"sk-estimator-id-34\" class=\"sk-toggleable__label sk-toggleable__label-arrow\">SVC</label><div class=\"sk-toggleable__content\"><pre>SVC(kernel=&#x27;poly&#x27;)</pre></div></div></div></div></div></div></div></div></div></div>"
      ],
      "text/plain": [
       "GridSearchCV(cv=4, estimator=SVC(kernel='poly'),\n",
       "             param_grid=[{'C': array([ 0.2,  1.2,  2.2,  3.2,  4.2,  5.2,  6.2,  7.2,  8.2,  9.2, 10.2,\n",
       "       11.2, 12.2, 13.2, 14.2, 15.2, 16.2, 17.2, 18.2, 19.2, 20.2, 21.2,\n",
       "       22.2, 23.2]),\n",
       "                          'kernel': ['poly']}])"
      ]
     },
     "execution_count": 131,
     "metadata": {},
     "output_type": "execute_result"
    }
   ],
   "source": [
    "parameters = [{'kernel': ['poly'],\n",
    "                'C': np.arange(0.2,24.2,1.)}]\n",
    "poly_FDC_CV_best = GridSearchCV(svm.SVC(kernel='poly',decision_function_shape='ovr'), parameters,cv=4)\n",
    "poly_FDC_CV_best.fit(X_train, y_train)"
   ]
  },
  {
   "cell_type": "code",
   "execution_count": 132,
   "metadata": {},
   "outputs": [
    {
     "name": "stdout",
     "output_type": "stream",
     "text": [
      "{'C': 23.2, 'kernel': 'poly'}\n",
      "train_data_nls_poly_CV =  0.9984114376489277\n",
      "test_data_nls_poly_CV =  0.9888837424733673\n"
     ]
    }
   ],
   "source": [
    "print(poly_FDC_CV_best.best_params_)\n",
    "y_predicted_nls_poly_CV = poly_FDC_CV_best.predict(X_test)\n",
    "\n",
    "train_data_nls_poly_CV = poly_FDC_CV_best.score(X_train,y_train) \n",
    "print('train_data_nls_poly_CV = ',train_data_nls_poly_CV)\n",
    "\n",
    "test_data_nls_poly_CV = poly_FDC_CV_best.score(X_test,y_test)\n",
    "print('test_data_nls_poly_CV = ',test_data_nls_poly_CV)"
   ]
  },
  {
   "cell_type": "code",
   "execution_count": 133,
   "metadata": {},
   "outputs": [
    {
     "data": {
      "text/plain": [
       "array([ 18,  45, 148, 104])"
      ]
     },
     "execution_count": 133,
     "metadata": {},
     "output_type": "execute_result"
    }
   ],
   "source": [
    "poly_FDC_CV_best.best_estimator_.n_support_"
   ]
  },
  {
   "attachments": {},
   "cell_type": "markdown",
   "metadata": {},
   "source": [
    "Table of Models Comparision"
   ]
  },
  {
   "cell_type": "code",
   "execution_count": 178,
   "metadata": {},
   "outputs": [
    {
     "data": {
      "text/html": [
       "<table border=\"1\" class=\"dataframe\">\n",
       "  <thead>\n",
       "    <tr style=\"text-align: right;\">\n",
       "      <th>kernel</th>\n",
       "      <th>LinearSVC</th>\n",
       "      <th>linear</th>\n",
       "      <th>sigmoid</th>\n",
       "      <th>soft+sigmoid</th>\n",
       "      <th>rbf</th>\n",
       "      <th>rbf+soft</th>\n",
       "      <th>poly</th>\n",
       "      <th>poly+soft</th>\n",
       "      <th>4fold_rbf</th>\n",
       "      <th>4fold_poly</th>\n",
       "    </tr>\n",
       "  </thead>\n",
       "  <tbody>\n",
       "    <tr>\n",
       "      <td>Best_C</td>\n",
       "      <td>1</td>\n",
       "      <td>1</td>\n",
       "      <td>1</td>\n",
       "      <td>0.2</td>\n",
       "      <td>1</td>\n",
       "      <td>48.2</td>\n",
       "      <td>1</td>\n",
       "      <td>13.2</td>\n",
       "      <td>18.2</td>\n",
       "      <td>23.2</td>\n",
       "    </tr>\n",
       "    <tr>\n",
       "      <td>N(SVM's)</td>\n",
       "      <td>not avalible</td>\n",
       "      <td>[41, 179, 440, 396]</td>\n",
       "      <td>[37, 167, 640, 592]</td>\n",
       "      <td>[37, 303, 958, 935]</td>\n",
       "      <td>[12, 38, 123, 86]</td>\n",
       "      <td>[14, 42, 133, 92]</td>\n",
       "      <td>[10, 38, 114, 81]</td>\n",
       "      <td>[22, 47, 143, 109]</td>\n",
       "      <td>[20, 56, 163, 114]</td>\n",
       "      <td>[18, 45, 148, 104]</td>\n",
       "    </tr>\n",
       "    <tr>\n",
       "      <td>train</td>\n",
       "      <td>0.936259</td>\n",
       "      <td>0.945393</td>\n",
       "      <td>0.734922</td>\n",
       "      <td>0.79722</td>\n",
       "      <td>0.975676</td>\n",
       "      <td>0.998759</td>\n",
       "      <td>0.975428</td>\n",
       "      <td>0.996525</td>\n",
       "      <td>0.997816</td>\n",
       "      <td>0.998411</td>\n",
       "    </tr>\n",
       "    <tr>\n",
       "      <td>val</td>\n",
       "      <td>-</td>\n",
       "      <td>-</td>\n",
       "      <td>0.729589</td>\n",
       "      <td>0.808338</td>\n",
       "      <td>0.982629</td>\n",
       "      <td>0.991893</td>\n",
       "      <td>0.980313</td>\n",
       "      <td>0.989577</td>\n",
       "      <td>-</td>\n",
       "      <td>-</td>\n",
       "    </tr>\n",
       "    <tr>\n",
       "      <td>test</td>\n",
       "      <td>0.927744</td>\n",
       "      <td>0.937008</td>\n",
       "      <td>0.734538</td>\n",
       "      <td>0.815844</td>\n",
       "      <td>0.972898</td>\n",
       "      <td>0.989576</td>\n",
       "      <td>0.971508</td>\n",
       "      <td>0.985407</td>\n",
       "      <td>0.988421</td>\n",
       "      <td>0.988884</td>\n",
       "    </tr>\n",
       "  </tbody>\n",
       "</table>"
      ],
      "text/plain": [
       "<IPython.core.display.HTML object>"
      ]
     },
     "execution_count": 178,
     "metadata": {},
     "output_type": "execute_result"
    }
   ],
   "source": [
    "d_TMC = {'kernel':[\"Best_C\",\"N(SVM's)\",\"train\",\"val\",\"test\"],\\\n",
    "    'LinearSVC' : [1, 'not avalible', train_data_Ma, '-', test_data_Ma],\\\n",
    "      'linear':[1,linear_svc.n_support_, train_data_Ma_lk, '-', test_data_Ma_lk],\\\n",
    "        'sigmoid':[1, n_linear_svm.n_support_, train_data_Ma_nls, val_data_Ma_nls, test_data_Ma_nls],\\\n",
    "            'soft+sigmoid': [sig_BC, n_linear_svm_best.n_support_, train_data_nls_BMA,sig_BMA,test_data_nls_BMA],\\\n",
    "                'rbf':[1, rbf_svm.n_support_, train_data_Ma_nls_rbf, val_data_Ma_nls_rbf, test_data_Ma_nls_rbf],\\\n",
    "                    'rbf+soft': [BC_S_rbf, rbf_svm_best.n_support_, train_data_nls_rbf_BMA, BMA_S_rbf, test_data_nls_rbf_BMA],\\\n",
    "                        'poly': [1, poly_svm.n_support_, train_data_Ma_nls_poly, val_data_Ma_nls_poly, test_data_Ma_nls_poly],\\\n",
    "                            'poly+soft': [BC_s_poly, poly_svm_best.n_support_, train_data_nls_poly_BMA, BMA_s_poly, test_data_nls_poly_BMA],\\\n",
    "                                '4fold_rbf': [rbf_FDC_CV_best.best_params_['C'], rbf_FDC_CV_best.best_estimator_.n_support_, train_data_nls_rbf_CV,'-', test_data_nls_rbf_CV],\\\n",
    "                                   '4fold_poly' : [poly_FDC_CV_best.best_params_['C'], poly_FDC_CV_best.best_estimator_.n_support_, train_data_nls_poly_CV, '-', test_data_nls_poly_CV]}\n",
    "TMC = pd.DataFrame(data = d_TMC)\n",
    "# def some_function():\n",
    "#     df['kernel'] = [f'<b>{x}</b>' for x in df['kernel']]\n",
    "#     return df.to_html()\n",
    "HTML(TMC.to_html(index=False))"
   ]
  }
 ],
 "metadata": {
  "kernelspec": {
   "display_name": "tensorflow",
   "language": "python",
   "name": "python3"
  },
  "language_info": {
   "codemirror_mode": {
    "name": "ipython",
    "version": 3
   },
   "file_extension": ".py",
   "mimetype": "text/x-python",
   "name": "python",
   "nbconvert_exporter": "python",
   "pygments_lexer": "ipython3",
   "version": "3.9.15"
  },
  "orig_nbformat": 4,
  "vscode": {
   "interpreter": {
    "hash": "3d99f7da9083b613b335a5c600a014f868e72c406e097c507993764a432898e4"
   }
  }
 },
 "nbformat": 4,
 "nbformat_minor": 2
}
